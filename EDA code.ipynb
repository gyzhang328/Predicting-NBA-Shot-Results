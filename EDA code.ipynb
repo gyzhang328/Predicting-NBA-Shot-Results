{
 "cells": [
  {
   "cell_type": "markdown",
   "metadata": {},
   "source": [
    "# Supervised Learning : NBA Shots Log Data (DS-SF-25 | Final Project)"
   ]
  },
  {
   "cell_type": "markdown",
   "metadata": {},
   "source": [
    "This notebook is part of my final project for the General Assembly Part Time Data Science course. The project seeks to  to predict the results of field goal attempts in the 14-15 NBA regular season."
   ]
  },
  {
   "cell_type": "markdown",
   "metadata": {},
   "source": [
    "* Notebook below is a detailed exploratory analysis of the data including cleaning, parsing and transforming data for modeling\n",
    "* The data source for this project: https://www.kaggle.com/dansbecker/nba-shot-logs"
   ]
  },
  {
   "cell_type": "markdown",
   "metadata": {},
   "source": [
    "## Importing and Reading Data"
   ]
  },
  {
   "cell_type": "code",
   "execution_count": 1,
   "metadata": {
    "collapsed": true
   },
   "outputs": [],
   "source": [
    "import os\n",
    "\n",
    "import numpy as np\n",
    "import pandas as pd\n",
    "pd.set_option('display.max_rows', 10)\n",
    "pd.set_option('display.notebook_repr_html', True)\n",
    "pd.set_option('display.max_columns', 20)\n",
    "\n",
    "import seaborn as sns\n",
    "import colorsys\n",
    "import statsmodels.api as sm\n",
    "import statsmodels.formula.api as smf\n",
    "\n",
    "from sklearn import linear_model\n",
    "import matplotlib\n",
    "import matplotlib.pyplot as plt\n",
    "%matplotlib inline\n",
    "plt.style.use('ggplot')"
   ]
  },
  {
   "cell_type": "code",
   "execution_count": 2,
   "metadata": {
    "collapsed": true
   },
   "outputs": [],
   "source": [
    "def read_dataset(x):\n",
    "    return pd.read_csv(os.path.join('..', 'datasets', x))\n",
    "\n",
    "df = read_dataset('shot_logs.csv')"
   ]
  },
  {
   "cell_type": "code",
   "execution_count": 3,
   "metadata": {
    "collapsed": false,
    "scrolled": true
   },
   "outputs": [
    {
     "data": {
      "text/html": [
       "<div>\n",
       "<table border=\"1\" class=\"dataframe\">\n",
       "  <thead>\n",
       "    <tr style=\"text-align: right;\">\n",
       "      <th></th>\n",
       "      <th>GAME_ID</th>\n",
       "      <th>MATCHUP</th>\n",
       "      <th>LOCATION</th>\n",
       "      <th>W</th>\n",
       "      <th>FINAL_MARGIN</th>\n",
       "      <th>SHOT_NUMBER</th>\n",
       "      <th>PERIOD</th>\n",
       "      <th>GAME_CLOCK</th>\n",
       "      <th>SHOT_CLOCK</th>\n",
       "      <th>DRIBBLES</th>\n",
       "      <th>...</th>\n",
       "      <th>SHOT_DIST</th>\n",
       "      <th>PTS_TYPE</th>\n",
       "      <th>SHOT_RESULT</th>\n",
       "      <th>CLOSEST_DEFENDER</th>\n",
       "      <th>CLOSEST_DEFENDER_PLAYER_ID</th>\n",
       "      <th>CLOSE_DEF_DIST</th>\n",
       "      <th>FGM</th>\n",
       "      <th>PTS</th>\n",
       "      <th>player_name</th>\n",
       "      <th>player_id</th>\n",
       "    </tr>\n",
       "  </thead>\n",
       "  <tbody>\n",
       "    <tr>\n",
       "      <th>0</th>\n",
       "      <td>21400899</td>\n",
       "      <td>MAR 04, 2015 - CHA @ BKN</td>\n",
       "      <td>A</td>\n",
       "      <td>W</td>\n",
       "      <td>24</td>\n",
       "      <td>1</td>\n",
       "      <td>1</td>\n",
       "      <td>1:09</td>\n",
       "      <td>10.8</td>\n",
       "      <td>2</td>\n",
       "      <td>...</td>\n",
       "      <td>7.7</td>\n",
       "      <td>2</td>\n",
       "      <td>made</td>\n",
       "      <td>Anderson, Alan</td>\n",
       "      <td>101187</td>\n",
       "      <td>1.3</td>\n",
       "      <td>1</td>\n",
       "      <td>2</td>\n",
       "      <td>brian roberts</td>\n",
       "      <td>203148</td>\n",
       "    </tr>\n",
       "    <tr>\n",
       "      <th>1</th>\n",
       "      <td>21400899</td>\n",
       "      <td>MAR 04, 2015 - CHA @ BKN</td>\n",
       "      <td>A</td>\n",
       "      <td>W</td>\n",
       "      <td>24</td>\n",
       "      <td>2</td>\n",
       "      <td>1</td>\n",
       "      <td>0:14</td>\n",
       "      <td>3.4</td>\n",
       "      <td>0</td>\n",
       "      <td>...</td>\n",
       "      <td>28.2</td>\n",
       "      <td>3</td>\n",
       "      <td>missed</td>\n",
       "      <td>Bogdanovic, Bojan</td>\n",
       "      <td>202711</td>\n",
       "      <td>6.1</td>\n",
       "      <td>0</td>\n",
       "      <td>0</td>\n",
       "      <td>brian roberts</td>\n",
       "      <td>203148</td>\n",
       "    </tr>\n",
       "  </tbody>\n",
       "</table>\n",
       "<p>2 rows × 21 columns</p>\n",
       "</div>"
      ],
      "text/plain": [
       "    GAME_ID                   MATCHUP LOCATION  W  FINAL_MARGIN  SHOT_NUMBER  \\\n",
       "0  21400899  MAR 04, 2015 - CHA @ BKN        A  W            24            1   \n",
       "1  21400899  MAR 04, 2015 - CHA @ BKN        A  W            24            2   \n",
       "\n",
       "   PERIOD GAME_CLOCK  SHOT_CLOCK  DRIBBLES    ...     SHOT_DIST  PTS_TYPE  \\\n",
       "0       1       1:09        10.8         2    ...           7.7         2   \n",
       "1       1       0:14         3.4         0    ...          28.2         3   \n",
       "\n",
       "   SHOT_RESULT   CLOSEST_DEFENDER CLOSEST_DEFENDER_PLAYER_ID  CLOSE_DEF_DIST  \\\n",
       "0         made     Anderson, Alan                     101187             1.3   \n",
       "1       missed  Bogdanovic, Bojan                     202711             6.1   \n",
       "\n",
       "   FGM  PTS    player_name player_id  \n",
       "0    1    2  brian roberts    203148  \n",
       "1    0    0  brian roberts    203148  \n",
       "\n",
       "[2 rows x 21 columns]"
      ]
     },
     "execution_count": 3,
     "metadata": {},
     "output_type": "execute_result"
    }
   ],
   "source": [
    "df.head(2)"
   ]
  },
  {
   "cell_type": "markdown",
   "metadata": {},
   "source": [
    "### The dataset has 21 variables. 'Shot_Result' and 'FGM' are the reponse variables. For the purpose of this project, shooter name and defender name will not be analyzed. The main purpose is to evaluate the quality of the shots; thus, who makes or defends the shots do not really matter."
   ]
  },
  {
   "cell_type": "code",
   "execution_count": 4,
   "metadata": {
    "collapsed": false
   },
   "outputs": [
    {
     "data": {
      "text/plain": [
       "Index([u'GAME_ID', u'MATCHUP', u'LOCATION', u'W', u'FINAL_MARGIN',\n",
       "       u'SHOT_NUMBER', u'PERIOD', u'GAME_CLOCK', u'SHOT_CLOCK', u'DRIBBLES',\n",
       "       u'TOUCH_TIME', u'SHOT_DIST', u'PTS_TYPE', u'SHOT_RESULT',\n",
       "       u'CLOSEST_DEFENDER', u'CLOSEST_DEFENDER_PLAYER_ID', u'CLOSE_DEF_DIST',\n",
       "       u'FGM', u'PTS', u'player_name', u'player_id'],\n",
       "      dtype='object')"
      ]
     },
     "execution_count": 4,
     "metadata": {},
     "output_type": "execute_result"
    }
   ],
   "source": [
    "df.columns"
   ]
  },
  {
   "cell_type": "markdown",
   "metadata": {},
   "source": [
    "## Datasets Dimension and NaN Drop"
   ]
  },
  {
   "cell_type": "markdown",
   "metadata": {},
   "source": [
    "There are a total of 12,8069 observations. 5,567 were dropped with NaN, representing roughly 4% of the total observations."
   ]
  },
  {
   "cell_type": "code",
   "execution_count": 5,
   "metadata": {
    "collapsed": false
   },
   "outputs": [
    {
     "data": {
      "text/plain": [
       "(128069, 21)"
      ]
     },
     "execution_count": 5,
     "metadata": {},
     "output_type": "execute_result"
    }
   ],
   "source": [
    "df.shape"
   ]
  },
  {
   "cell_type": "code",
   "execution_count": 6,
   "metadata": {
    "collapsed": true
   },
   "outputs": [],
   "source": [
    "df.dropna(inplace = True)"
   ]
  },
  {
   "cell_type": "code",
   "execution_count": 7,
   "metadata": {
    "collapsed": false
   },
   "outputs": [
    {
     "data": {
      "text/plain": [
       "(122502, 21)"
      ]
     },
     "execution_count": 7,
     "metadata": {},
     "output_type": "execute_result"
    }
   ],
   "source": [
    "df.shape"
   ]
  },
  {
   "cell_type": "code",
   "execution_count": 8,
   "metadata": {
    "collapsed": false
   },
   "outputs": [
    {
     "name": "stdout",
     "output_type": "stream",
     "text": [
      "5567\n",
      "0.0434687551242\n"
     ]
    }
   ],
   "source": [
    "#number of observation being dropped and % as of total\n",
    "print 128069-122502\n",
    "print (128069-122502)/128069."
   ]
  },
  {
   "cell_type": "markdown",
   "metadata": {},
   "source": [
    "## Datasets splitting"
   ]
  },
  {
   "cell_type": "markdown",
   "metadata": {},
   "source": [
    "Two Pts and Three Pts"
   ]
  },
  {
   "cell_type": "markdown",
   "metadata": {},
   "source": [
    "### In the dataset, 74% of the shots are 2 pts with the remainder being 3 pts."
   ]
  },
  {
   "cell_type": "code",
   "execution_count": 9,
   "metadata": {
    "collapsed": false
   },
   "outputs": [
    {
     "data": {
      "text/plain": [
       "2    90852\n",
       "3    31650\n",
       "Name: PTS_TYPE, dtype: int64"
      ]
     },
     "execution_count": 9,
     "metadata": {},
     "output_type": "execute_result"
    }
   ],
   "source": [
    "df.PTS_TYPE.value_counts()"
   ]
  },
  {
   "cell_type": "code",
   "execution_count": 10,
   "metadata": {
    "collapsed": true
   },
   "outputs": [],
   "source": [
    "two_df= df[df['PTS_TYPE']==2]"
   ]
  },
  {
   "cell_type": "code",
   "execution_count": 11,
   "metadata": {
    "collapsed": false
   },
   "outputs": [],
   "source": [
    "three_df = df[df['PTS_TYPE']==3]"
   ]
  },
  {
   "cell_type": "code",
   "execution_count": 12,
   "metadata": {
    "collapsed": false
   },
   "outputs": [
    {
     "data": {
      "text/plain": [
       "(90852, 21)"
      ]
     },
     "execution_count": 12,
     "metadata": {},
     "output_type": "execute_result"
    }
   ],
   "source": [
    "two_df.shape"
   ]
  },
  {
   "cell_type": "code",
   "execution_count": 13,
   "metadata": {
    "collapsed": false,
    "scrolled": true
   },
   "outputs": [
    {
     "data": {
      "text/plain": [
       "(31650, 21)"
      ]
     },
     "execution_count": 13,
     "metadata": {},
     "output_type": "execute_result"
    }
   ],
   "source": [
    "three_df.shape"
   ]
  },
  {
   "cell_type": "markdown",
   "metadata": {},
   "source": [
    "Train and Test split"
   ]
  },
  {
   "cell_type": "code",
   "execution_count": 14,
   "metadata": {
    "collapsed": false
   },
   "outputs": [],
   "source": [
    "train_2_df = two_df.sample(frac = .6, random_state = 0)\n",
    "test_2_df = two_df.drop(train_2_df.index)"
   ]
  },
  {
   "cell_type": "code",
   "execution_count": 15,
   "metadata": {
    "collapsed": false
   },
   "outputs": [],
   "source": [
    "train_3_df = three_df.sample(frac = .6, random_state = 0)\n",
    "test_3_df = three_df.drop(train_3_df.index)"
   ]
  },
  {
   "cell_type": "markdown",
   "metadata": {},
   "source": [
    "## Data Exploration for Two Pointers"
   ]
  },
  {
   "cell_type": "code",
   "execution_count": 16,
   "metadata": {
    "collapsed": false
   },
   "outputs": [
    {
     "data": {
      "text/html": [
       "<div>\n",
       "<table border=\"1\" class=\"dataframe\">\n",
       "  <thead>\n",
       "    <tr style=\"text-align: right;\">\n",
       "      <th></th>\n",
       "      <th>GAME_ID</th>\n",
       "      <th>FINAL_MARGIN</th>\n",
       "      <th>SHOT_NUMBER</th>\n",
       "      <th>PERIOD</th>\n",
       "      <th>SHOT_CLOCK</th>\n",
       "      <th>DRIBBLES</th>\n",
       "      <th>TOUCH_TIME</th>\n",
       "      <th>SHOT_DIST</th>\n",
       "      <th>PTS_TYPE</th>\n",
       "      <th>CLOSEST_DEFENDER_PLAYER_ID</th>\n",
       "      <th>CLOSE_DEF_DIST</th>\n",
       "      <th>FGM</th>\n",
       "      <th>PTS</th>\n",
       "      <th>player_id</th>\n",
       "    </tr>\n",
       "  </thead>\n",
       "  <tbody>\n",
       "    <tr>\n",
       "      <th>count</th>\n",
       "      <td>5.451100e+04</td>\n",
       "      <td>54511.000000</td>\n",
       "      <td>54511.000000</td>\n",
       "      <td>54511.000000</td>\n",
       "      <td>54511.000000</td>\n",
       "      <td>54511.000000</td>\n",
       "      <td>54511.000000</td>\n",
       "      <td>54511.000000</td>\n",
       "      <td>54511.0</td>\n",
       "      <td>54511.000000</td>\n",
       "      <td>54511.000000</td>\n",
       "      <td>54511.000000</td>\n",
       "      <td>54511.000000</td>\n",
       "      <td>54511.000000</td>\n",
       "    </tr>\n",
       "    <tr>\n",
       "      <th>mean</th>\n",
       "      <td>2.140045e+07</td>\n",
       "      <td>0.059181</td>\n",
       "      <td>6.487443</td>\n",
       "      <td>2.442461</td>\n",
       "      <td>12.558131</td>\n",
       "      <td>2.349471</td>\n",
       "      <td>3.080083</td>\n",
       "      <td>9.637240</td>\n",
       "      <td>2.0</td>\n",
       "      <td>159021.495166</td>\n",
       "      <td>3.450751</td>\n",
       "      <td>0.488819</td>\n",
       "      <td>0.977638</td>\n",
       "      <td>156674.939553</td>\n",
       "    </tr>\n",
       "    <tr>\n",
       "      <th>std</th>\n",
       "      <td>2.579646e+02</td>\n",
       "      <td>13.248577</td>\n",
       "      <td>4.719303</td>\n",
       "      <td>1.137246</td>\n",
       "      <td>5.840915</td>\n",
       "      <td>3.556042</td>\n",
       "      <td>3.077456</td>\n",
       "      <td>6.833019</td>\n",
       "      <td>0.0</td>\n",
       "      <td>78685.519864</td>\n",
       "      <td>2.341734</td>\n",
       "      <td>0.499880</td>\n",
       "      <td>0.999759</td>\n",
       "      <td>80121.880480</td>\n",
       "    </tr>\n",
       "    <tr>\n",
       "      <th>min</th>\n",
       "      <td>2.140000e+07</td>\n",
       "      <td>-53.000000</td>\n",
       "      <td>1.000000</td>\n",
       "      <td>1.000000</td>\n",
       "      <td>0.000000</td>\n",
       "      <td>0.000000</td>\n",
       "      <td>-100.500000</td>\n",
       "      <td>0.000000</td>\n",
       "      <td>2.0</td>\n",
       "      <td>708.000000</td>\n",
       "      <td>0.000000</td>\n",
       "      <td>0.000000</td>\n",
       "      <td>0.000000</td>\n",
       "      <td>708.000000</td>\n",
       "    </tr>\n",
       "    <tr>\n",
       "      <th>25%</th>\n",
       "      <td>2.140023e+07</td>\n",
       "      <td>-9.000000</td>\n",
       "      <td>3.000000</td>\n",
       "      <td>1.000000</td>\n",
       "      <td>8.200000</td>\n",
       "      <td>0.000000</td>\n",
       "      <td>0.900000</td>\n",
       "      <td>3.700000</td>\n",
       "      <td>2.0</td>\n",
       "      <td>200745.000000</td>\n",
       "      <td>2.000000</td>\n",
       "      <td>0.000000</td>\n",
       "      <td>0.000000</td>\n",
       "      <td>101162.000000</td>\n",
       "    </tr>\n",
       "    <tr>\n",
       "      <th>50%</th>\n",
       "      <td>2.140045e+07</td>\n",
       "      <td>1.000000</td>\n",
       "      <td>5.000000</td>\n",
       "      <td>2.000000</td>\n",
       "      <td>12.300000</td>\n",
       "      <td>1.000000</td>\n",
       "      <td>2.100000</td>\n",
       "      <td>7.400000</td>\n",
       "      <td>2.0</td>\n",
       "      <td>201948.000000</td>\n",
       "      <td>3.000000</td>\n",
       "      <td>0.000000</td>\n",
       "      <td>0.000000</td>\n",
       "      <td>201936.000000</td>\n",
       "    </tr>\n",
       "    <tr>\n",
       "      <th>75%</th>\n",
       "      <td>2.140067e+07</td>\n",
       "      <td>9.000000</td>\n",
       "      <td>9.000000</td>\n",
       "      <td>3.000000</td>\n",
       "      <td>16.700000</td>\n",
       "      <td>3.000000</td>\n",
       "      <td>4.200000</td>\n",
       "      <td>16.300000</td>\n",
       "      <td>2.0</td>\n",
       "      <td>203079.000000</td>\n",
       "      <td>4.500000</td>\n",
       "      <td>1.000000</td>\n",
       "      <td>2.000000</td>\n",
       "      <td>202702.000000</td>\n",
       "    </tr>\n",
       "    <tr>\n",
       "      <th>max</th>\n",
       "      <td>2.140091e+07</td>\n",
       "      <td>53.000000</td>\n",
       "      <td>37.000000</td>\n",
       "      <td>7.000000</td>\n",
       "      <td>24.000000</td>\n",
       "      <td>32.000000</td>\n",
       "      <td>24.500000</td>\n",
       "      <td>43.300000</td>\n",
       "      <td>2.0</td>\n",
       "      <td>530027.000000</td>\n",
       "      <td>52.900000</td>\n",
       "      <td>1.000000</td>\n",
       "      <td>2.000000</td>\n",
       "      <td>204060.000000</td>\n",
       "    </tr>\n",
       "  </tbody>\n",
       "</table>\n",
       "</div>"
      ],
      "text/plain": [
       "            GAME_ID  FINAL_MARGIN   SHOT_NUMBER        PERIOD    SHOT_CLOCK  \\\n",
       "count  5.451100e+04  54511.000000  54511.000000  54511.000000  54511.000000   \n",
       "mean   2.140045e+07      0.059181      6.487443      2.442461     12.558131   \n",
       "std    2.579646e+02     13.248577      4.719303      1.137246      5.840915   \n",
       "min    2.140000e+07    -53.000000      1.000000      1.000000      0.000000   \n",
       "25%    2.140023e+07     -9.000000      3.000000      1.000000      8.200000   \n",
       "50%    2.140045e+07      1.000000      5.000000      2.000000     12.300000   \n",
       "75%    2.140067e+07      9.000000      9.000000      3.000000     16.700000   \n",
       "max    2.140091e+07     53.000000     37.000000      7.000000     24.000000   \n",
       "\n",
       "           DRIBBLES    TOUCH_TIME     SHOT_DIST  PTS_TYPE  \\\n",
       "count  54511.000000  54511.000000  54511.000000   54511.0   \n",
       "mean       2.349471      3.080083      9.637240       2.0   \n",
       "std        3.556042      3.077456      6.833019       0.0   \n",
       "min        0.000000   -100.500000      0.000000       2.0   \n",
       "25%        0.000000      0.900000      3.700000       2.0   \n",
       "50%        1.000000      2.100000      7.400000       2.0   \n",
       "75%        3.000000      4.200000     16.300000       2.0   \n",
       "max       32.000000     24.500000     43.300000       2.0   \n",
       "\n",
       "       CLOSEST_DEFENDER_PLAYER_ID  CLOSE_DEF_DIST           FGM           PTS  \\\n",
       "count                54511.000000    54511.000000  54511.000000  54511.000000   \n",
       "mean                159021.495166        3.450751      0.488819      0.977638   \n",
       "std                  78685.519864        2.341734      0.499880      0.999759   \n",
       "min                    708.000000        0.000000      0.000000      0.000000   \n",
       "25%                 200745.000000        2.000000      0.000000      0.000000   \n",
       "50%                 201948.000000        3.000000      0.000000      0.000000   \n",
       "75%                 203079.000000        4.500000      1.000000      2.000000   \n",
       "max                 530027.000000       52.900000      1.000000      2.000000   \n",
       "\n",
       "           player_id  \n",
       "count   54511.000000  \n",
       "mean   156674.939553  \n",
       "std     80121.880480  \n",
       "min       708.000000  \n",
       "25%    101162.000000  \n",
       "50%    201936.000000  \n",
       "75%    202702.000000  \n",
       "max    204060.000000  "
      ]
     },
     "execution_count": 16,
     "metadata": {},
     "output_type": "execute_result"
    }
   ],
   "source": [
    "train_2_df.describe()"
   ]
  },
  {
   "cell_type": "markdown",
   "metadata": {},
   "source": [
    "### Response Variable"
   ]
  },
  {
   "cell_type": "code",
   "execution_count": 17,
   "metadata": {
    "collapsed": false
   },
   "outputs": [
    {
     "data": {
      "text/html": [
       "<div>\n",
       "<table border=\"1\" class=\"dataframe\">\n",
       "  <thead>\n",
       "    <tr style=\"text-align: right;\">\n",
       "      <th>SHOT_RESULT</th>\n",
       "      <th>made</th>\n",
       "      <th>missed</th>\n",
       "    </tr>\n",
       "    <tr>\n",
       "      <th>FGM</th>\n",
       "      <th></th>\n",
       "      <th></th>\n",
       "    </tr>\n",
       "  </thead>\n",
       "  <tbody>\n",
       "    <tr>\n",
       "      <th>0</th>\n",
       "      <td>0</td>\n",
       "      <td>27865</td>\n",
       "    </tr>\n",
       "    <tr>\n",
       "      <th>1</th>\n",
       "      <td>26646</td>\n",
       "      <td>0</td>\n",
       "    </tr>\n",
       "  </tbody>\n",
       "</table>\n",
       "</div>"
      ],
      "text/plain": [
       "SHOT_RESULT   made  missed\n",
       "FGM                       \n",
       "0                0   27865\n",
       "1            26646       0"
      ]
     },
     "execution_count": 17,
     "metadata": {},
     "output_type": "execute_result"
    }
   ],
   "source": [
    "# To make sure 'FGM=1' represents shot made.\n",
    "pd.crosstab(train_2_df.FGM, train_2_df.SHOT_RESULT)"
   ]
  },
  {
   "cell_type": "code",
   "execution_count": 18,
   "metadata": {
    "collapsed": false
   },
   "outputs": [
    {
     "data": {
      "text/plain": [
       "0    27865\n",
       "1    26646\n",
       "Name: FGM, dtype: int64"
      ]
     },
     "execution_count": 18,
     "metadata": {},
     "output_type": "execute_result"
    }
   ],
   "source": [
    "train_2_df.FGM.value_counts()"
   ]
  },
  {
   "cell_type": "markdown",
   "metadata": {},
   "source": [
    "#### The overall field goal percentage is roughly 49% in the 2-point training set. The goal is to obtain a better prediction accuracy rate than 49%."
   ]
  },
  {
   "cell_type": "code",
   "execution_count": 19,
   "metadata": {
    "collapsed": false,
    "scrolled": true
   },
   "outputs": [
    {
     "data": {
      "text/plain": [
       "0.48881877052338057"
      ]
     },
     "execution_count": 19,
     "metadata": {},
     "output_type": "execute_result"
    }
   ],
   "source": [
    "train_2_df.FGM.value_counts()[1]/float(train_2_df.shape[0])"
   ]
  },
  {
   "cell_type": "markdown",
   "metadata": {},
   "source": [
    "### Predictor Variable"
   ]
  },
  {
   "cell_type": "code",
   "execution_count": 20,
   "metadata": {
    "collapsed": true
   },
   "outputs": [],
   "source": [
    "# Add some color!\n",
    "color = train_2_df.FGM.map(pd.Series({0: 'red', 1: 'green'}))"
   ]
  },
  {
   "cell_type": "markdown",
   "metadata": {},
   "source": [
    "Game ID"
   ]
  },
  {
   "cell_type": "markdown",
   "metadata": {},
   "source": [
    "The trainingset contains 896 games."
   ]
  },
  {
   "cell_type": "code",
   "execution_count": 21,
   "metadata": {
    "collapsed": false
   },
   "outputs": [],
   "source": [
    "GameID_count = pd.value_counts(train_2_df.GAME_ID).to_frame().reset_index()"
   ]
  },
  {
   "cell_type": "code",
   "execution_count": 22,
   "metadata": {
    "collapsed": false
   },
   "outputs": [],
   "source": [
    "GameID_count.columns = ['ID', 'count']"
   ]
  },
  {
   "cell_type": "code",
   "execution_count": 23,
   "metadata": {
    "collapsed": false
   },
   "outputs": [
    {
     "data": {
      "text/plain": [
       "896"
      ]
     },
     "execution_count": 23,
     "metadata": {},
     "output_type": "execute_result"
    }
   ],
   "source": [
    "GameID_count['ID'].count()"
   ]
  },
  {
   "cell_type": "code",
   "execution_count": 24,
   "metadata": {
    "collapsed": false
   },
   "outputs": [
    {
     "data": {
      "text/plain": [
       "<matplotlib.axes._subplots.AxesSubplot at 0x11d486ad0>"
      ]
     },
     "execution_count": 24,
     "metadata": {},
     "output_type": "execute_result"
    },
    {
     "data": {
      "image/png": "[encoded data removed]",
      "text/plain": [
       "<matplotlib.figure.Figure at 0x11a9b0290>"
      ]
     },
     "metadata": {},
     "output_type": "display_data"
    }
   ],
   "source": [
    "# it looks like some more shots are selected from a specific game than the others.\n",
    "GameID_count['count'].plot(kind= 'hist')"
   ]
  },
  {
   "cell_type": "code",
   "execution_count": 25,
   "metadata": {
    "collapsed": false
   },
   "outputs": [
    {
     "data": {
      "image/png": "[encoded data removed]",
      "text/plain": [
       "<matplotlib.figure.Figure at 0x11a9b07d0>"
      ]
     },
     "metadata": {},
     "output_type": "display_data"
    }
   ],
   "source": [
    "# The distribution follows a normal distribution.\n",
    "sm.qqplot(GameID_count['count'], line = 's')\n",
    "pass"
   ]
  },
  {
   "cell_type": "code",
   "execution_count": 26,
   "metadata": {
    "collapsed": false
   },
   "outputs": [
    {
     "data": {
      "text/html": [
       "<div>\n",
       "<table border=\"1\" class=\"dataframe\">\n",
       "  <thead>\n",
       "    <tr style=\"text-align: right;\">\n",
       "      <th></th>\n",
       "      <th>GAME_ID</th>\n",
       "      <th>FGM</th>\n",
       "    </tr>\n",
       "  </thead>\n",
       "  <tbody>\n",
       "    <tr>\n",
       "      <th>GAME_ID</th>\n",
       "      <td>1.000000</td>\n",
       "      <td>-0.006626</td>\n",
       "    </tr>\n",
       "    <tr>\n",
       "      <th>FGM</th>\n",
       "      <td>-0.006626</td>\n",
       "      <td>1.000000</td>\n",
       "    </tr>\n",
       "  </tbody>\n",
       "</table>\n",
       "</div>"
      ],
      "text/plain": [
       "          GAME_ID       FGM\n",
       "GAME_ID  1.000000 -0.006626\n",
       "FGM     -0.006626  1.000000"
      ]
     },
     "execution_count": 26,
     "metadata": {},
     "output_type": "execute_result"
    }
   ],
   "source": [
    "train_2_df[['GAME_ID', 'FGM']].corr()"
   ]
  },
  {
   "cell_type": "markdown",
   "metadata": {},
   "source": [
    "MATCHUP"
   ]
  },
  {
   "cell_type": "code",
   "execution_count": 27,
   "metadata": {
    "collapsed": true
   },
   "outputs": [],
   "source": [
    "#Variable transformation\n",
    "def mu_transform(mu):\n",
    "    mu = mu.split(\",\")\n",
    "    mu=mu[0]\n",
    "    mu = mu.split(' ')\n",
    "    mu_t=mu[0]\n",
    "    return mu_t"
   ]
  },
  {
   "cell_type": "code",
   "execution_count": 28,
   "metadata": {
    "collapsed": false
   },
   "outputs": [],
   "source": [
    "train_2_df['Month']= train_2_df.MATCHUP.apply(mu_transform)"
   ]
  },
  {
   "cell_type": "code",
   "execution_count": 29,
   "metadata": {
    "collapsed": false
   },
   "outputs": [],
   "source": [
    "g = pd.value_counts(train_2_df['Month']).to_frame().reset_index()\n",
    "g.columns = ['Month', 'count']"
   ]
  },
  {
   "cell_type": "markdown",
   "metadata": {},
   "source": [
    "#### Shot Distribution Bar Chart by Months."
   ]
  },
  {
   "cell_type": "markdown",
   "metadata": {},
   "source": [
    "Couple observations:\n"
   ]
  },
  {
   "cell_type": "markdown",
   "metadata": {},
   "source": [
    "* October has less shots. Expected since the season starts at the end of the month.\n",
    "* March has less shots too. Might due to the splitting of the dataset.\n",
    "* No shots beyong March - dataset does not include shots from the playoff"
   ]
  },
  {
   "cell_type": "code",
   "execution_count": 30,
   "metadata": {
    "collapsed": false
   },
   "outputs": [
    {
     "data": {
      "image/png": "[encoded data removed]",
      "text/plain": [
       "<matplotlib.figure.Figure at 0x11be5cf50>"
      ]
     },
     "metadata": {},
     "output_type": "display_data"
    }
   ],
   "source": [
    "g = pd.value_counts(train_2_df['Month']).to_frame().reset_index()\n",
    "g.columns = ['Month_', 'count']\n",
    "\n",
    "def graph(graph_title):\n",
    "\n",
    "    sns.set_style(\"whitegrid\")\n",
    "    ax = sns.barplot(y = 'count', x = 'Month_', data=g)\n",
    "    ax.set(xlabel = '', ylabel = '', title = graph_title)\n",
    "    ax.get_yaxis().set_major_formatter(\n",
    "    matplotlib.ticker.FuncFormatter(lambda x, p: format(int(x), ',')))\n",
    "    _ = ax.set_xticklabels(ax.get_xticklabels(), rotation=0)\n",
    "    \n",
    "graph('Shots Distribution by Months')"
   ]
  },
  {
   "cell_type": "code",
   "execution_count": 31,
   "metadata": {
    "collapsed": false
   },
   "outputs": [
    {
     "data": {
      "text/plain": [
       "<matplotlib.axes._subplots.AxesSubplot at 0x11be91410>"
      ]
     },
     "execution_count": 31,
     "metadata": {},
     "output_type": "execute_result"
    },
    {
     "data": {
      "image/png": "[encoded data removed]",
      "text/plain": [
       "<matplotlib.figure.Figure at 0x11be9bdd0>"
      ]
     },
     "metadata": {},
     "output_type": "display_data"
    }
   ],
   "source": [
    "# Field goal percentage by months. FG% is highest in Dec while lowest in Feb.\n",
    "train_2_df.groupby('Month')['FGM'].mean().plot()"
   ]
  },
  {
   "cell_type": "markdown",
   "metadata": {},
   "source": [
    "Location"
   ]
  },
  {
   "cell_type": "code",
   "execution_count": 32,
   "metadata": {
    "collapsed": false,
    "scrolled": true
   },
   "outputs": [
    {
     "data": {
      "text/plain": [
       "A    27273\n",
       "H    27238\n",
       "Name: LOCATION, dtype: int64"
      ]
     },
     "execution_count": 32,
     "metadata": {},
     "output_type": "execute_result"
    }
   ],
   "source": [
    "train_2_df['LOCATION'].value_counts()"
   ]
  },
  {
   "cell_type": "code",
   "execution_count": 33,
   "metadata": {
    "collapsed": false
   },
   "outputs": [],
   "source": [
    "#transforming variable\n",
    "train_2_df['location_t'] = 0\n",
    "train_2_df.at[train_2_df['LOCATION'] == 'A','location_t'] = 1\n",
    "test_2_df['location_t'] = 0\n",
    "test_2_df.at[test_2_df['LOCATION'] == 'A','location_t'] = 1"
   ]
  },
  {
   "cell_type": "markdown",
   "metadata": {},
   "source": [
    "#### It does look like shots are more likely to go in Home game. Although the "
   ]
  },
  {
   "cell_type": "code",
   "execution_count": 34,
   "metadata": {
    "collapsed": false
   },
   "outputs": [
    {
     "data": {
      "text/plain": [
       "<matplotlib.legend.Legend at 0x1242bccd0>"
      ]
     },
     "execution_count": 34,
     "metadata": {},
     "output_type": "execute_result"
    },
    {
     "data": {
      "image/png": "[encoded data removed]",
      "text/plain": [
       "<matplotlib.figure.Figure at 0x1242c6450>"
      ]
     },
     "metadata": {},
     "output_type": "display_data"
    }
   ],
   "source": [
    "df_graph = pd.crosstab(train_2_df.location_t,train_2_df.FGM).apply(lambda r: r/r.sum(), axis=1)\n",
    "N = len(train_2_df.location_t.value_counts().index)\n",
    "HSV_tuples = [(x*1.0/N, 0.5, 0.5) for x in range(N)]\n",
    "RGB_tuples = list(map(lambda x: colorsys.hsv_to_rgb(*x), HSV_tuples))\n",
    "ax1 = df_graph.plot(kind=\"bar\", stacked=True, color=RGB_tuples, title=\"Location\")\n",
    "lines, labels = ax1.get_legend_handles_labels()\n",
    "ax1.legend(lines,[\"Missed\", \"Made\"], loc='best')"
   ]
  },
  {
   "cell_type": "code",
   "execution_count": 35,
   "metadata": {
    "collapsed": false
   },
   "outputs": [
    {
     "data": {
      "text/html": [
       "<div>\n",
       "<table border=\"1\" class=\"dataframe\">\n",
       "  <thead>\n",
       "    <tr style=\"text-align: right;\">\n",
       "      <th>FGM</th>\n",
       "      <th>0</th>\n",
       "      <th>1</th>\n",
       "    </tr>\n",
       "    <tr>\n",
       "      <th>location_t</th>\n",
       "      <th></th>\n",
       "      <th></th>\n",
       "    </tr>\n",
       "  </thead>\n",
       "  <tbody>\n",
       "    <tr>\n",
       "      <th>0</th>\n",
       "      <td>0.507673</td>\n",
       "      <td>0.492327</td>\n",
       "    </tr>\n",
       "    <tr>\n",
       "      <th>1</th>\n",
       "      <td>0.514685</td>\n",
       "      <td>0.485315</td>\n",
       "    </tr>\n",
       "  </tbody>\n",
       "</table>\n",
       "</div>"
      ],
      "text/plain": [
       "FGM                0         1\n",
       "location_t                    \n",
       "0           0.507673  0.492327\n",
       "1           0.514685  0.485315"
      ]
     },
     "execution_count": 35,
     "metadata": {},
     "output_type": "execute_result"
    }
   ],
   "source": [
    "df_graph"
   ]
  },
  {
   "cell_type": "code",
   "execution_count": 36,
   "metadata": {
    "collapsed": false
   },
   "outputs": [
    {
     "data": {
      "text/html": [
       "<div>\n",
       "<table border=\"1\" class=\"dataframe\">\n",
       "  <thead>\n",
       "    <tr style=\"text-align: right;\">\n",
       "      <th></th>\n",
       "      <th>location_t</th>\n",
       "      <th>FGM</th>\n",
       "    </tr>\n",
       "  </thead>\n",
       "  <tbody>\n",
       "    <tr>\n",
       "      <th>location_t</th>\n",
       "      <td>1.000000</td>\n",
       "      <td>-0.007014</td>\n",
       "    </tr>\n",
       "    <tr>\n",
       "      <th>FGM</th>\n",
       "      <td>-0.007014</td>\n",
       "      <td>1.000000</td>\n",
       "    </tr>\n",
       "  </tbody>\n",
       "</table>\n",
       "</div>"
      ],
      "text/plain": [
       "            location_t       FGM\n",
       "location_t    1.000000 -0.007014\n",
       "FGM          -0.007014  1.000000"
      ]
     },
     "execution_count": 36,
     "metadata": {},
     "output_type": "execute_result"
    }
   ],
   "source": [
    "train_2_df[['location_t', 'FGM']].corr()"
   ]
  },
  {
   "cell_type": "markdown",
   "metadata": {},
   "source": [
    "Shot Number"
   ]
  },
  {
   "cell_type": "code",
   "execution_count": 37,
   "metadata": {
    "collapsed": false
   },
   "outputs": [
    {
     "data": {
      "text/plain": [
       "<matplotlib.axes._subplots.AxesSubplot at 0x124e41610>"
      ]
     },
     "execution_count": 37,
     "metadata": {},
     "output_type": "execute_result"
    },
    {
     "data": {
      "image/png": "[encoded data removed]",
      "text/plain": [
       "<matplotlib.figure.Figure at 0x11bebb850>"
      ]
     },
     "metadata": {},
     "output_type": "display_data"
    }
   ],
   "source": [
    "# It seems like majority of the players take less than 9 2-pts attempts in a game\n",
    "train_2_df['SHOT_NUMBER'].plot(kind = 'box')"
   ]
  },
  {
   "cell_type": "markdown",
   "metadata": {},
   "source": [
    "#### FG% by Shot Number"
   ]
  },
  {
   "cell_type": "markdown",
   "metadata": {},
   "source": [
    "It looks like there is not much of FG% flux for the first 13 shots. But after 13th shots, the FG% fluctuates much widely. Part of the reasons can be attributed to a smaller population for shot number greater than 13. "
   ]
  },
  {
   "cell_type": "markdown",
   "metadata": {},
   "source": [
    "Most of the greater shot_number (>=15) field goals are taken by star players. They can easily force shots when they made consecutive field goals, making their next shots less likely to go in. Also, it is interesting to notice that beyond 26~27 shots, FG% increase dramatically. These shots are most likely taken by players with 'hot-hand' in certain games."
   ]
  },
  {
   "cell_type": "code",
   "execution_count": 38,
   "metadata": {
    "collapsed": false
   },
   "outputs": [
    {
     "data": {
      "text/plain": [
       "<matplotlib.axes._subplots.AxesSubplot at 0x123e5a310>"
      ]
     },
     "execution_count": 38,
     "metadata": {},
     "output_type": "execute_result"
    },
    {
     "data": {
      "image/png": "[encoded data removed]",
      "text/plain": [
       "<matplotlib.figure.Figure at 0x123c7d590>"
      ]
     },
     "metadata": {},
     "output_type": "display_data"
    }
   ],
   "source": [
    "train_2_df.groupby('SHOT_NUMBER')['FGM'].mean().plot()"
   ]
  },
  {
   "cell_type": "code",
   "execution_count": 39,
   "metadata": {
    "collapsed": false
   },
   "outputs": [
    {
     "data": {
      "text/plain": [
       "lamarcus aldridge    187\n",
       "russell westbrook    170\n",
       "lebron james         117\n",
       "carmelo anthony      116\n",
       "demarcus cousins     111\n",
       "                    ... \n",
       "robert covington       1\n",
       "kyle oquinn            1\n",
       "chris kaman            1\n",
       "james johnson          1\n",
       "patrick beverley       1\n",
       "Name: player_name, dtype: int64"
      ]
     },
     "execution_count": 39,
     "metadata": {},
     "output_type": "execute_result"
    }
   ],
   "source": [
    "# number of games in which players take 15 or more shots.\n",
    "train_2_df[train_2_df.SHOT_NUMBER >=15].player_name.value_counts()"
   ]
  },
  {
   "cell_type": "code",
   "execution_count": 40,
   "metadata": {
    "collapsed": false
   },
   "outputs": [
    {
     "data": {
      "text/html": [
       "<div>\n",
       "<table border=\"1\" class=\"dataframe\">\n",
       "  <thead>\n",
       "    <tr style=\"text-align: right;\">\n",
       "      <th></th>\n",
       "      <th>SHOT_NUMBER</th>\n",
       "      <th>FGM</th>\n",
       "    </tr>\n",
       "  </thead>\n",
       "  <tbody>\n",
       "    <tr>\n",
       "      <th>SHOT_NUMBER</th>\n",
       "      <td>1.000000</td>\n",
       "      <td>-0.004529</td>\n",
       "    </tr>\n",
       "    <tr>\n",
       "      <th>FGM</th>\n",
       "      <td>-0.004529</td>\n",
       "      <td>1.000000</td>\n",
       "    </tr>\n",
       "  </tbody>\n",
       "</table>\n",
       "</div>"
      ],
      "text/plain": [
       "             SHOT_NUMBER       FGM\n",
       "SHOT_NUMBER     1.000000 -0.004529\n",
       "FGM            -0.004529  1.000000"
      ]
     },
     "execution_count": 40,
     "metadata": {},
     "output_type": "execute_result"
    }
   ],
   "source": [
    "train_2_df[['SHOT_NUMBER', 'FGM']].corr()"
   ]
  },
  {
   "cell_type": "markdown",
   "metadata": {},
   "source": [
    "Final Margin"
   ]
  },
  {
   "cell_type": "code",
   "execution_count": 41,
   "metadata": {
    "collapsed": false
   },
   "outputs": [
    {
     "data": {
      "text/plain": [
       "<matplotlib.axes._subplots.AxesSubplot at 0x11bf11650>"
      ]
     },
     "execution_count": 41,
     "metadata": {},
     "output_type": "execute_result"
    },
    {
     "data": {
      "image/png": "[encoded data removed]",
      "text/plain": [
       "<matplotlib.figure.Figure at 0x11b594190>"
      ]
     },
     "metadata": {},
     "output_type": "display_data"
    }
   ],
   "source": [
    "train_2_df['FINAL_MARGIN'].plot(kind = 'box')"
   ]
  },
  {
   "cell_type": "markdown",
   "metadata": {},
   "source": [
    "####  It is expected that shots in winning game is more likely to fall that losing game. This variable is a result of the shotting result rather impacting the shotting. It will be better if we can get the margin at the time of the shot."
   ]
  },
  {
   "cell_type": "code",
   "execution_count": 92,
   "metadata": {
    "collapsed": false
   },
   "outputs": [
    {
     "data": {
      "text/plain": [
       "<matplotlib.axes._subplots.AxesSubplot at 0x127dda310>"
      ]
     },
     "execution_count": 92,
     "metadata": {},
     "output_type": "execute_result"
    },
    {
     "data": {
      "image/png": "[encoded data removed]",
      "text/plain": [
       "<matplotlib.figure.Figure at 0x127df0150>"
      ]
     },
     "metadata": {},
     "output_type": "display_data"
    }
   ],
   "source": [
    "train_2_df.groupby('FINAL_MARGIN')['FGM'].mean().plot(figsize=(20,10))"
   ]
  },
  {
   "cell_type": "code",
   "execution_count": 94,
   "metadata": {
    "collapsed": false
   },
   "outputs": [
    {
     "data": {
      "text/plain": [
       "0.5085841613091759"
      ]
     },
     "execution_count": 94,
     "metadata": {},
     "output_type": "execute_result"
    }
   ],
   "source": [
    "train_2_df[train_2_df.FINAL_MARGIN>0]['FGM'].mean()"
   ]
  },
  {
   "cell_type": "code",
   "execution_count": 95,
   "metadata": {
    "collapsed": false
   },
   "outputs": [
    {
     "data": {
      "text/plain": [
       "0.46887783305693753"
      ]
     },
     "execution_count": 95,
     "metadata": {},
     "output_type": "execute_result"
    }
   ],
   "source": [
    "train_2_df[train_2_df.FINAL_MARGIN<0]['FGM'].mean()"
   ]
  },
  {
   "cell_type": "markdown",
   "metadata": {},
   "source": [
    "Period and Game Clock"
   ]
  },
  {
   "cell_type": "code",
   "execution_count": 43,
   "metadata": {
    "collapsed": false
   },
   "outputs": [
    {
     "data": {
      "text/plain": [
       "1    14906\n",
       "3    13689\n",
       "2    13526\n",
       "4    11933\n",
       "5      377\n",
       "6       61\n",
       "7       19\n",
       "Name: PERIOD, dtype: int64"
      ]
     },
     "execution_count": 43,
     "metadata": {},
     "output_type": "execute_result"
    }
   ],
   "source": [
    "#Majority of games are not played in OT.\n",
    "train_2_df['PERIOD'].value_counts()"
   ]
  },
  {
   "cell_type": "markdown",
   "metadata": {},
   "source": [
    "#### It is expected that there is a slide in FG% in 4th quarter since the both teams will typically tighten up defense while there should be a graduate increase in FG% from 1st to 3rd quarter given that players are getting into rythem."
   ]
  },
  {
   "cell_type": "markdown",
   "metadata": {},
   "source": [
    "#### It is really interesting to see a big drop in FG% in the first OT period. "
   ]
  },
  {
   "cell_type": "code",
   "execution_count": 44,
   "metadata": {
    "collapsed": false
   },
   "outputs": [
    {
     "data": {
      "text/plain": [
       "<matplotlib.axes._subplots.AxesSubplot at 0x11b9bd3d0>"
      ]
     },
     "execution_count": 44,
     "metadata": {},
     "output_type": "execute_result"
    },
    {
     "data": {
      "image/png": "[encoded data removed]",
      "text/plain": [
       "<matplotlib.figure.Figure at 0x124f83190>"
      ]
     },
     "metadata": {},
     "output_type": "display_data"
    }
   ],
   "source": [
    "train_2_df.groupby('PERIOD')['FGM'].mean().plot()"
   ]
  },
  {
   "cell_type": "code",
   "execution_count": 45,
   "metadata": {
    "collapsed": true
   },
   "outputs": [],
   "source": [
    "#Game Clock variable transformation\n",
    "def gc_transform(gc):\n",
    "    gc = gc.split(\":\")\n",
    "    gc0=float(gc[0])\n",
    "    gc1=float(gc[1])\n",
    "    gc0=gc0*60\n",
    "    gc_t = gc1+gc0\n",
    "    return gc_t"
   ]
  },
  {
   "cell_type": "code",
   "execution_count": 46,
   "metadata": {
    "collapsed": false
   },
   "outputs": [],
   "source": [
    "train_2_df['GAME_CLOCK_t']= train_2_df.GAME_CLOCK.apply(gc_transform)\n",
    "train_3_df['GAME_CLOCK_t']= train_3_df.GAME_CLOCK.apply(gc_transform)\n",
    "test_2_df['GAME_CLOCK_t']= test_2_df.GAME_CLOCK.apply(gc_transform)\n",
    "test_3_df['GAME_CLOCK_t']= test_3_df.GAME_CLOCK.apply(gc_transform)"
   ]
  },
  {
   "cell_type": "code",
   "execution_count": 47,
   "metadata": {
    "collapsed": false
   },
   "outputs": [
    {
     "data": {
      "text/plain": [
       "count    54511.000000\n",
       "mean       364.590266\n",
       "std        201.357185\n",
       "min          1.000000\n",
       "25%        193.000000\n",
       "50%        367.000000\n",
       "75%        538.000000\n",
       "max        720.000000\n",
       "Name: GAME_CLOCK_t, dtype: float64"
      ]
     },
     "execution_count": 47,
     "metadata": {},
     "output_type": "execute_result"
    }
   ],
   "source": [
    "train_2_df['GAME_CLOCK_t'].describe()"
   ]
  },
  {
   "cell_type": "code",
   "execution_count": 48,
   "metadata": {
    "collapsed": false
   },
   "outputs": [],
   "source": [
    "# 2pts\n",
    "train_2_df.at[train_2_df['PERIOD'] <5,'GAME_CLOCK_t']= train_2_df['GAME_CLOCK_t']+(train_2_df.PERIOD-1)*720\n",
    "train_2_df.at[train_2_df['PERIOD'] >4,'GAME_CLOCK_t']= train_2_df['GAME_CLOCK_t']+(train_2_df.PERIOD-5)*300+2880\n",
    "test_2_df.at[test_2_df['PERIOD'] <5,'GAME_CLOCK_t']= test_2_df['GAME_CLOCK_t']+(test_2_df.PERIOD-1)*720\n",
    "test_2_df.at[test_2_df['PERIOD'] >4,'GAME_CLOCK_t']= test_2_df['GAME_CLOCK_t']+(test_2_df.PERIOD-5)*300+2880"
   ]
  },
  {
   "cell_type": "code",
   "execution_count": 49,
   "metadata": {
    "collapsed": false
   },
   "outputs": [],
   "source": [
    "# 3pts\n",
    "train_3_df.at[train_3_df['PERIOD'] <5,'GAME_CLOCK_t']= train_3_df['GAME_CLOCK_t']+(train_3_df.PERIOD-1)*720\n",
    "train_3_df.at[train_3_df['PERIOD'] >4,'GAME_CLOCK_t']= train_3_df['GAME_CLOCK_t']+(train_3_df.PERIOD-5)*300+2880\n",
    "test_3_df.at[test_3_df['PERIOD'] <5,'GAME_CLOCK_t']= test_3_df['GAME_CLOCK_t']+(test_3_df.PERIOD-1)*720\n",
    "test_3_df.at[test_3_df['PERIOD'] >4,'GAME_CLOCK_t']= test_3_df['GAME_CLOCK_t']+(test_3_df.PERIOD-5)*300+2880"
   ]
  },
  {
   "cell_type": "code",
   "execution_count": 50,
   "metadata": {
    "collapsed": false
   },
   "outputs": [],
   "source": [
    "df_gc = pd.crosstab(train_2_df.GAME_CLOCK_t,train_2_df.FGM).apply(lambda r: r/r.sum(), axis=1)"
   ]
  },
  {
   "cell_type": "markdown",
   "metadata": {},
   "source": [
    "Doesn't seem like there is much signal within a specific quarter."
   ]
  },
  {
   "cell_type": "code",
   "execution_count": 51,
   "metadata": {
    "collapsed": false
   },
   "outputs": [
    {
     "data": {
      "text/plain": [
       "<matplotlib.axes._subplots.AxesSubplot at 0x125314490>"
      ]
     },
     "execution_count": 51,
     "metadata": {},
     "output_type": "execute_result"
    },
    {
     "data": {
      "image/png": "[encoded data removed]",
      "text/plain": [
       "<matplotlib.figure.Figure at 0x125357a90>"
      ]
     },
     "metadata": {},
     "output_type": "display_data"
    }
   ],
   "source": [
    "train_2_df[train_2_df.PERIOD==1].groupby('GAME_CLOCK_t')['FGM'].mean().plot()"
   ]
  },
  {
   "cell_type": "code",
   "execution_count": 52,
   "metadata": {
    "collapsed": false
   },
   "outputs": [
    {
     "data": {
      "text/plain": [
       "<matplotlib.axes._subplots.AxesSubplot at 0x120715550>"
      ]
     },
     "execution_count": 52,
     "metadata": {},
     "output_type": "execute_result"
    },
    {
     "data": {
      "image/png": "[encoded data removed]",
      "text/plain": [
       "<matplotlib.figure.Figure at 0x1253b27d0>"
      ]
     },
     "metadata": {},
     "output_type": "display_data"
    }
   ],
   "source": [
    "train_2_df[train_2_df.PERIOD==2].groupby('GAME_CLOCK_t')['FGM'].mean().plot()"
   ]
  },
  {
   "cell_type": "code",
   "execution_count": 53,
   "metadata": {
    "collapsed": false
   },
   "outputs": [
    {
     "data": {
      "text/plain": [
       "<matplotlib.axes._subplots.AxesSubplot at 0x1205fd190>"
      ]
     },
     "execution_count": 53,
     "metadata": {},
     "output_type": "execute_result"
    },
    {
     "data": {
      "image/png": "[encoded data removed]",
      "text/plain": [
       "<matplotlib.figure.Figure at 0x1253b7c10>"
      ]
     },
     "metadata": {},
     "output_type": "display_data"
    }
   ],
   "source": [
    "train_2_df[train_2_df.PERIOD==3].groupby('GAME_CLOCK_t')['FGM'].mean().plot()"
   ]
  },
  {
   "cell_type": "code",
   "execution_count": 54,
   "metadata": {
    "collapsed": false
   },
   "outputs": [
    {
     "data": {
      "text/plain": [
       "<matplotlib.axes._subplots.AxesSubplot at 0x120535ed0>"
      ]
     },
     "execution_count": 54,
     "metadata": {},
     "output_type": "execute_result"
    },
    {
     "data": {
      "image/png": "[encoded data removed]",
      "text/plain": [
       "<matplotlib.figure.Figure at 0x11ddf5cd0>"
      ]
     },
     "metadata": {},
     "output_type": "display_data"
    }
   ],
   "source": [
    "train_2_df[train_2_df.PERIOD==4].groupby('GAME_CLOCK_t')['FGM'].mean().plot()"
   ]
  },
  {
   "cell_type": "code",
   "execution_count": 55,
   "metadata": {
    "collapsed": false
   },
   "outputs": [
    {
     "data": {
      "text/html": [
       "<div>\n",
       "<table border=\"1\" class=\"dataframe\">\n",
       "  <thead>\n",
       "    <tr style=\"text-align: right;\">\n",
       "      <th></th>\n",
       "      <th>PERIOD</th>\n",
       "      <th>FGM</th>\n",
       "    </tr>\n",
       "  </thead>\n",
       "  <tbody>\n",
       "    <tr>\n",
       "      <th>PERIOD</th>\n",
       "      <td>1.000000</td>\n",
       "      <td>-0.007739</td>\n",
       "    </tr>\n",
       "    <tr>\n",
       "      <th>FGM</th>\n",
       "      <td>-0.007739</td>\n",
       "      <td>1.000000</td>\n",
       "    </tr>\n",
       "  </tbody>\n",
       "</table>\n",
       "</div>"
      ],
      "text/plain": [
       "          PERIOD       FGM\n",
       "PERIOD  1.000000 -0.007739\n",
       "FGM    -0.007739  1.000000"
      ]
     },
     "execution_count": 55,
     "metadata": {},
     "output_type": "execute_result"
    }
   ],
   "source": [
    "train_2_df[['PERIOD', 'FGM']].corr()"
   ]
  },
  {
   "cell_type": "code",
   "execution_count": 56,
   "metadata": {
    "collapsed": false
   },
   "outputs": [
    {
     "data": {
      "text/html": [
       "<div>\n",
       "<table border=\"1\" class=\"dataframe\">\n",
       "  <thead>\n",
       "    <tr style=\"text-align: right;\">\n",
       "      <th></th>\n",
       "      <th>GAME_CLOCK_t</th>\n",
       "      <th>FGM</th>\n",
       "    </tr>\n",
       "  </thead>\n",
       "  <tbody>\n",
       "    <tr>\n",
       "      <th>GAME_CLOCK_t</th>\n",
       "      <td>1.000000</td>\n",
       "      <td>-0.008079</td>\n",
       "    </tr>\n",
       "    <tr>\n",
       "      <th>FGM</th>\n",
       "      <td>-0.008079</td>\n",
       "      <td>1.000000</td>\n",
       "    </tr>\n",
       "  </tbody>\n",
       "</table>\n",
       "</div>"
      ],
      "text/plain": [
       "              GAME_CLOCK_t       FGM\n",
       "GAME_CLOCK_t      1.000000 -0.008079\n",
       "FGM              -0.008079  1.000000"
      ]
     },
     "execution_count": 56,
     "metadata": {},
     "output_type": "execute_result"
    }
   ],
   "source": [
    "# take a test to see if OT impacts - do a radio for the game clock too\n",
    "train_2_df[['GAME_CLOCK_t', 'FGM']].corr()"
   ]
  },
  {
   "cell_type": "markdown",
   "metadata": {},
   "source": [
    "Shot Clock"
   ]
  },
  {
   "cell_type": "code",
   "execution_count": 57,
   "metadata": {
    "collapsed": false
   },
   "outputs": [],
   "source": [
    "# To divide the 24s shot clock into 4 equal parts\n",
    "def groupby_shotclock(x):\n",
    "    if x <=6:\n",
    "        return 1\n",
    "    elif x<=12:\n",
    "        return 2\n",
    "    elif x<=18:\n",
    "        return 3\n",
    "    else:\n",
    "        return 4\n",
    "train_2_df['SHOT_CLOCK_t']= train_2_df.SHOT_CLOCK.apply(groupby_shotclock)        "
   ]
  },
  {
   "cell_type": "markdown",
   "metadata": {},
   "source": [
    "Most shots are taken with 6 to 18 seconds, indicating that a typical offense takes about 8 to 18 seconds."
   ]
  },
  {
   "cell_type": "markdown",
   "metadata": {},
   "source": [
    "FG% by shot clock:\n",
    "* When shots are forced to take within the last 6 seconds of the shot clock, FG% is 41%\n",
    "* Shots taken from 6 to 18 seconds, FG% is 46-48%.\n",
    "* Shots taken from 18 seconds to 24 seconds, FG% is 60%! (20% above shots taken within last 6 seconds). These shots actually represents rebounds, second shots attempt, tip shots, fast break off turnovers and etc. The FG% is epecially high since shots are not well defended or they are really close to the basket."
   ]
  },
  {
   "cell_type": "code",
   "execution_count": 58,
   "metadata": {
    "collapsed": false
   },
   "outputs": [
    {
     "data": {
      "image/png": "[encoded data removed]",
      "text/plain": [
       "<matplotlib.figure.Figure at 0x1203b0910>"
      ]
     },
     "metadata": {},
     "output_type": "display_data"
    }
   ],
   "source": [
    "g = pd.value_counts(train_2_df['SHOT_CLOCK_t']).to_frame().reset_index()\n",
    "g.columns = ['SHOT_CLOCK_t', 'count']\n",
    "\n",
    "def graph(graph_title):\n",
    "\n",
    "    sns.set_style(\"whitegrid\")\n",
    "    ax = sns.barplot(y = 'count', x = 'SHOT_CLOCK_t', data=g)\n",
    "    ax.set(xlabel = '', ylabel = '', title = graph_title)\n",
    "    ax.get_yaxis().set_major_formatter(\n",
    "    matplotlib.ticker.FuncFormatter(lambda x, p: format(int(x), ',')))\n",
    "    _ = ax.set_xticklabels(ax.get_xticklabels(), rotation=0)\n",
    "    \n",
    "graph('Shots Distribution Shot Clocks')"
   ]
  },
  {
   "cell_type": "code",
   "execution_count": 59,
   "metadata": {
    "collapsed": false
   },
   "outputs": [
    {
     "data": {
      "text/html": [
       "<div>\n",
       "<table border=\"1\" class=\"dataframe\">\n",
       "  <thead>\n",
       "    <tr style=\"text-align: right;\">\n",
       "      <th></th>\n",
       "      <th>SHOT_CLOCK_t</th>\n",
       "      <th>FG%</th>\n",
       "    </tr>\n",
       "  </thead>\n",
       "  <tbody>\n",
       "    <tr>\n",
       "      <th>0</th>\n",
       "      <td>1</td>\n",
       "      <td>0.409887</td>\n",
       "    </tr>\n",
       "    <tr>\n",
       "      <th>1</th>\n",
       "      <td>2</td>\n",
       "      <td>0.460750</td>\n",
       "    </tr>\n",
       "    <tr>\n",
       "      <th>2</th>\n",
       "      <td>3</td>\n",
       "      <td>0.488029</td>\n",
       "    </tr>\n",
       "    <tr>\n",
       "      <th>3</th>\n",
       "      <td>4</td>\n",
       "      <td>0.599867</td>\n",
       "    </tr>\n",
       "  </tbody>\n",
       "</table>\n",
       "</div>"
      ],
      "text/plain": [
       "   SHOT_CLOCK_t       FG%\n",
       "0             1  0.409887\n",
       "1             2  0.460750\n",
       "2             3  0.488029\n",
       "3             4  0.599867"
      ]
     },
     "execution_count": 59,
     "metadata": {},
     "output_type": "execute_result"
    }
   ],
   "source": [
    "train_2_df.groupby('SHOT_CLOCK_t')['FGM'].mean()\n",
    "g = train_2_df.groupby('SHOT_CLOCK_t')['FGM'].mean().to_frame().reset_index()\n",
    "g.columns = ['SHOT_CLOCK_t', 'FG%']\n",
    "g"
   ]
  },
  {
   "cell_type": "code",
   "execution_count": 60,
   "metadata": {
    "collapsed": false
   },
   "outputs": [
    {
     "data": {
      "text/plain": [
       "<matplotlib.axes._subplots.AxesSubplot at 0x120731490>"
      ]
     },
     "execution_count": 60,
     "metadata": {},
     "output_type": "execute_result"
    },
    {
     "data": {
      "image/png": "[encoded data removed]",
      "text/plain": [
       "<matplotlib.figure.Figure at 0x11ade36d0>"
      ]
     },
     "metadata": {},
     "output_type": "display_data"
    }
   ],
   "source": [
    "train_2_df.groupby('SHOT_CLOCK')['FGM'].mean().plot()"
   ]
  },
  {
   "cell_type": "code",
   "execution_count": 61,
   "metadata": {
    "collapsed": false
   },
   "outputs": [
    {
     "data": {
      "text/html": [
       "<div>\n",
       "<table border=\"1\" class=\"dataframe\">\n",
       "  <thead>\n",
       "    <tr style=\"text-align: right;\">\n",
       "      <th></th>\n",
       "      <th>SHOT_CLOCK</th>\n",
       "      <th>FGM</th>\n",
       "    </tr>\n",
       "  </thead>\n",
       "  <tbody>\n",
       "    <tr>\n",
       "      <th>SHOT_CLOCK</th>\n",
       "      <td>1.00000</td>\n",
       "      <td>0.11683</td>\n",
       "    </tr>\n",
       "    <tr>\n",
       "      <th>FGM</th>\n",
       "      <td>0.11683</td>\n",
       "      <td>1.00000</td>\n",
       "    </tr>\n",
       "  </tbody>\n",
       "</table>\n",
       "</div>"
      ],
      "text/plain": [
       "            SHOT_CLOCK      FGM\n",
       "SHOT_CLOCK     1.00000  0.11683\n",
       "FGM            0.11683  1.00000"
      ]
     },
     "execution_count": 61,
     "metadata": {},
     "output_type": "execute_result"
    }
   ],
   "source": [
    "train_2_df[['SHOT_CLOCK', 'FGM']].corr()"
   ]
  },
  {
   "cell_type": "code",
   "execution_count": 98,
   "metadata": {
    "collapsed": false
   },
   "outputs": [
    {
     "data": {
      "text/plain": [
       "<matplotlib.axes._subplots.AxesSubplot at 0x125501b90>"
      ]
     },
     "execution_count": 98,
     "metadata": {},
     "output_type": "execute_result"
    },
    {
     "data": {
      "image/png": "[encoded data removed]",
      "text/plain": [
       "<matplotlib.figure.Figure at 0x1255483d0>"
      ]
     },
     "metadata": {},
     "output_type": "display_data"
    }
   ],
   "source": [
    "# Shot distance distribution for shots taken with more than 18 seconds left in the shot clock.\n",
    "train_2_df[train_2_df.SHOT_CLOCK_t==4].SHOT_DIST.plot(kind='hist',figsize=(10,5))"
   ]
  },
  {
   "cell_type": "code",
   "execution_count": 63,
   "metadata": {
    "collapsed": false
   },
   "outputs": [
    {
     "data": {
      "text/html": [
       "<div>\n",
       "<table border=\"1\" class=\"dataframe\">\n",
       "  <thead>\n",
       "    <tr style=\"text-align: right;\">\n",
       "      <th></th>\n",
       "      <th>SHOT_CLOCK</th>\n",
       "      <th>SHOT_DIST</th>\n",
       "    </tr>\n",
       "  </thead>\n",
       "  <tbody>\n",
       "    <tr>\n",
       "      <th>SHOT_CLOCK</th>\n",
       "      <td>1.000000</td>\n",
       "      <td>-0.247157</td>\n",
       "    </tr>\n",
       "    <tr>\n",
       "      <th>SHOT_DIST</th>\n",
       "      <td>-0.247157</td>\n",
       "      <td>1.000000</td>\n",
       "    </tr>\n",
       "  </tbody>\n",
       "</table>\n",
       "</div>"
      ],
      "text/plain": [
       "            SHOT_CLOCK  SHOT_DIST\n",
       "SHOT_CLOCK    1.000000  -0.247157\n",
       "SHOT_DIST    -0.247157   1.000000"
      ]
     },
     "execution_count": 63,
     "metadata": {},
     "output_type": "execute_result"
    }
   ],
   "source": [
    "# There is definitely some correlations between shot distance and shot clock.\n",
    "train_2_df[['SHOT_CLOCK', 'SHOT_DIST']].corr()"
   ]
  },
  {
   "cell_type": "markdown",
   "metadata": {},
   "source": [
    "DRIBBLES and TOUCH_TIME"
   ]
  },
  {
   "cell_type": "markdown",
   "metadata": {},
   "source": [
    "As indicated by the distribution graphs "
   ]
  },
  {
   "cell_type": "code",
   "execution_count": 64,
   "metadata": {
    "collapsed": false
   },
   "outputs": [
    {
     "data": {
      "image/png": "[encoded data removed]",
      "text/plain": [
       "<matplotlib.figure.Figure at 0x126acd5d0>"
      ]
     },
     "metadata": {},
     "output_type": "display_data"
    }
   ],
   "source": [
    "g = pd.value_counts(train_2_df['DRIBBLES']).to_frame().reset_index()\n",
    "g.columns = ['DRIBBLES', 'count']\n",
    "\n",
    "def graph(graph_title):\n",
    "\n",
    "    sns.set_style(\"whitegrid\")\n",
    "    ax = sns.barplot(y = 'count', x = 'DRIBBLES', data=g)\n",
    "    ax.set(xlabel = '', ylabel = '', title = graph_title)\n",
    "    ax.get_yaxis().set_major_formatter(\n",
    "    matplotlib.ticker.FuncFormatter(lambda x, p: format(int(x), ',')))\n",
    "    _ = ax.set_xticklabels(ax.get_xticklabels(), rotation=0)\n",
    "    \n",
    "graph('Shots Distribution by DRIBBLES')"
   ]
  },
  {
   "cell_type": "code",
   "execution_count": 65,
   "metadata": {
    "collapsed": false
   },
   "outputs": [
    {
     "data": {
      "text/plain": [
       "<matplotlib.axes._subplots.AxesSubplot at 0x120a09490>"
      ]
     },
     "execution_count": 65,
     "metadata": {},
     "output_type": "execute_result"
    },
    {
     "data": {
      "image/png": "[encoded data removed]",
      "text/plain": [
       "<matplotlib.figure.Figure at 0x120a73a10>"
      ]
     },
     "metadata": {},
     "output_type": "display_data"
    }
   ],
   "source": [
    "train_2_df[train_2_df.PERIOD==2].groupby('DRIBBLES')['FGM'].mean().plot()"
   ]
  },
  {
   "cell_type": "code",
   "execution_count": 66,
   "metadata": {
    "collapsed": true
   },
   "outputs": [],
   "source": [
    "train_2_df['Catch&Shot'] = 0\n",
    "train_2_df.at[train_2_df['DRIBBLES'] == 0,'Catch&Shot'] = 1\n",
    "test_2_df['Catch&Shot'] = 0\n",
    "test_2_df.at[test_2_df['DRIBBLES'] == 0,'Catch&Shot'] = 1"
   ]
  },
  {
   "cell_type": "code",
   "execution_count": 67,
   "metadata": {
    "collapsed": false
   },
   "outputs": [
    {
     "data": {
      "text/html": [
       "<div>\n",
       "<table border=\"1\" class=\"dataframe\">\n",
       "  <thead>\n",
       "    <tr style=\"text-align: right;\">\n",
       "      <th></th>\n",
       "      <th>DRIBBLES</th>\n",
       "      <th>FGM</th>\n",
       "    </tr>\n",
       "  </thead>\n",
       "  <tbody>\n",
       "    <tr>\n",
       "      <th>DRIBBLES</th>\n",
       "      <td>1.0000</td>\n",
       "      <td>-0.0654</td>\n",
       "    </tr>\n",
       "    <tr>\n",
       "      <th>FGM</th>\n",
       "      <td>-0.0654</td>\n",
       "      <td>1.0000</td>\n",
       "    </tr>\n",
       "  </tbody>\n",
       "</table>\n",
       "</div>"
      ],
      "text/plain": [
       "          DRIBBLES     FGM\n",
       "DRIBBLES    1.0000 -0.0654\n",
       "FGM        -0.0654  1.0000"
      ]
     },
     "execution_count": 67,
     "metadata": {},
     "output_type": "execute_result"
    }
   ],
   "source": [
    "train_2_df[['DRIBBLES', 'FGM']].corr()"
   ]
  },
  {
   "cell_type": "code",
   "execution_count": 68,
   "metadata": {
    "collapsed": false
   },
   "outputs": [
    {
     "data": {
      "text/html": [
       "<div>\n",
       "<table border=\"1\" class=\"dataframe\">\n",
       "  <thead>\n",
       "    <tr style=\"text-align: right;\">\n",
       "      <th></th>\n",
       "      <th>Catch&amp;Shot</th>\n",
       "      <th>FGM</th>\n",
       "    </tr>\n",
       "  </thead>\n",
       "  <tbody>\n",
       "    <tr>\n",
       "      <th>Catch&amp;Shot</th>\n",
       "      <td>1.000000</td>\n",
       "      <td>0.094551</td>\n",
       "    </tr>\n",
       "    <tr>\n",
       "      <th>FGM</th>\n",
       "      <td>0.094551</td>\n",
       "      <td>1.000000</td>\n",
       "    </tr>\n",
       "  </tbody>\n",
       "</table>\n",
       "</div>"
      ],
      "text/plain": [
       "            Catch&Shot       FGM\n",
       "Catch&Shot    1.000000  0.094551\n",
       "FGM           0.094551  1.000000"
      ]
     },
     "execution_count": 68,
     "metadata": {},
     "output_type": "execute_result"
    }
   ],
   "source": [
    "train_2_df[['Catch&Shot', 'FGM']].corr()"
   ]
  },
  {
   "cell_type": "code",
   "execution_count": 69,
   "metadata": {
    "collapsed": false
   },
   "outputs": [
    {
     "data": {
      "text/html": [
       "<div>\n",
       "<table border=\"1\" class=\"dataframe\">\n",
       "  <thead>\n",
       "    <tr style=\"text-align: right;\">\n",
       "      <th></th>\n",
       "      <th>Catch&amp;Shot</th>\n",
       "      <th>SHOT_DIST</th>\n",
       "    </tr>\n",
       "  </thead>\n",
       "  <tbody>\n",
       "    <tr>\n",
       "      <th>Catch&amp;Shot</th>\n",
       "      <td>1.000000</td>\n",
       "      <td>-0.031228</td>\n",
       "    </tr>\n",
       "    <tr>\n",
       "      <th>SHOT_DIST</th>\n",
       "      <td>-0.031228</td>\n",
       "      <td>1.000000</td>\n",
       "    </tr>\n",
       "  </tbody>\n",
       "</table>\n",
       "</div>"
      ],
      "text/plain": [
       "            Catch&Shot  SHOT_DIST\n",
       "Catch&Shot    1.000000  -0.031228\n",
       "SHOT_DIST    -0.031228   1.000000"
      ]
     },
     "execution_count": 69,
     "metadata": {},
     "output_type": "execute_result"
    }
   ],
   "source": [
    "train_2_df[['Catch&Shot', 'SHOT_DIST']].corr()"
   ]
  },
  {
   "cell_type": "code",
   "execution_count": 70,
   "metadata": {
    "collapsed": false
   },
   "outputs": [
    {
     "data": {
      "text/html": [
       "<div>\n",
       "<table border=\"1\" class=\"dataframe\">\n",
       "  <thead>\n",
       "    <tr style=\"text-align: right;\">\n",
       "      <th></th>\n",
       "      <th>TOUCH_TIME</th>\n",
       "      <th>DRIBBLES</th>\n",
       "    </tr>\n",
       "  </thead>\n",
       "  <tbody>\n",
       "    <tr>\n",
       "      <th>TOUCH_TIME</th>\n",
       "      <td>1.000000</td>\n",
       "      <td>0.909551</td>\n",
       "    </tr>\n",
       "    <tr>\n",
       "      <th>DRIBBLES</th>\n",
       "      <td>0.909551</td>\n",
       "      <td>1.000000</td>\n",
       "    </tr>\n",
       "  </tbody>\n",
       "</table>\n",
       "</div>"
      ],
      "text/plain": [
       "            TOUCH_TIME  DRIBBLES\n",
       "TOUCH_TIME    1.000000  0.909551\n",
       "DRIBBLES      0.909551  1.000000"
      ]
     },
     "execution_count": 70,
     "metadata": {},
     "output_type": "execute_result"
    }
   ],
   "source": [
    "# Strong correlation between touch time and dribbles. Basically explain the same thing.\n",
    "train_2_df[['TOUCH_TIME', 'DRIBBLES']].corr()"
   ]
  },
  {
   "cell_type": "markdown",
   "metadata": {},
   "source": [
    "Shot Distance"
   ]
  },
  {
   "cell_type": "markdown",
   "metadata": {},
   "source": [
    "Majority of the 2pt shots (75%) are taken within the 16 feets from the basket. From the box plot, we can see that some 2pt shots are taken well beyond the three point lines measured the arc (23.75 fts). These shots might either be misclassified as 2 pts or the distance are measured incorrectly."
   ]
  },
  {
   "cell_type": "code",
   "execution_count": 71,
   "metadata": {
    "collapsed": false
   },
   "outputs": [
    {
     "data": {
      "text/plain": [
       "<matplotlib.axes._subplots.AxesSubplot at 0x126d21990>"
      ]
     },
     "execution_count": 71,
     "metadata": {},
     "output_type": "execute_result"
    },
    {
     "data": {
      "image/png": "[encoded data removed]",
      "text/plain": [
       "<matplotlib.figure.Figure at 0x126cb1210>"
      ]
     },
     "metadata": {},
     "output_type": "display_data"
    }
   ],
   "source": [
    "train_2_df['SHOT_DIST'].plot(kind = 'box')"
   ]
  },
  {
   "cell_type": "code",
   "execution_count": 72,
   "metadata": {
    "collapsed": false
   },
   "outputs": [
    {
     "data": {
      "text/plain": [
       "<matplotlib.axes._subplots.AxesSubplot at 0x115678790>"
      ]
     },
     "execution_count": 72,
     "metadata": {},
     "output_type": "execute_result"
    },
    {
     "data": {
      "image/png": "[encoded data removed]",
      "text/plain": [
       "<matplotlib.figure.Figure at 0x126fee150>"
      ]
     },
     "metadata": {},
     "output_type": "display_data"
    }
   ],
   "source": [
    "train_2_df.groupby('SHOT_DIST')['FGM'].mean().plot()"
   ]
  },
  {
   "cell_type": "code",
   "execution_count": 73,
   "metadata": {
    "collapsed": false
   },
   "outputs": [
    {
     "data": {
      "text/plain": [
       "306"
      ]
     },
     "execution_count": 73,
     "metadata": {},
     "output_type": "execute_result"
    }
   ],
   "source": [
    "# 2pts shots that are beyond the three point line\n",
    "train_2_df[train_2_df.SHOT_DIST >=23.75].shape[0]"
   ]
  },
  {
   "cell_type": "code",
   "execution_count": 74,
   "metadata": {
    "collapsed": false
   },
   "outputs": [
    {
     "data": {
      "text/plain": [
       "207"
      ]
     },
     "execution_count": 74,
     "metadata": {},
     "output_type": "execute_result"
    }
   ],
   "source": [
    "# 2pts shots that are beyond the three point line\n",
    "test_2_df[test_2_df.SHOT_DIST >=23.75].shape[0]"
   ]
  },
  {
   "cell_type": "code",
   "execution_count": 75,
   "metadata": {
    "collapsed": true
   },
   "outputs": [],
   "source": [
    "#dropping these misclassification or inaccurate shot distance observations\n",
    "test_2_df = test_2_df.drop(test_2_df[test_2_df.SHOT_DIST >=23.75].index)"
   ]
  },
  {
   "cell_type": "markdown",
   "metadata": {},
   "source": [
    "#### It looks like between 0 - 4 feets, the FG% is consistently above 60%. It starts to gradually come down as the shot distance gets further. After about 7 feets, the shot distance doesn't really impact FG% that much. Other factors seem to be behind the scene"
   ]
  },
  {
   "cell_type": "code",
   "execution_count": 76,
   "metadata": {
    "collapsed": false,
    "scrolled": true
   },
   "outputs": [
    {
     "data": {
      "text/plain": [
       "<matplotlib.axes._subplots.AxesSubplot at 0x127c39fd0>"
      ]
     },
     "execution_count": 76,
     "metadata": {},
     "output_type": "execute_result"
    },
    {
     "data": {
      "image/png": "[encoded data removed]",
      "text/plain": [
       "<matplotlib.figure.Figure at 0x127ea4310>"
      ]
     },
     "metadata": {},
     "output_type": "display_data"
    }
   ],
   "source": [
    "train_2_df.groupby('SHOT_DIST')['FGM'].mean().plot()"
   ]
  },
  {
   "cell_type": "code",
   "execution_count": 77,
   "metadata": {
    "collapsed": false
   },
   "outputs": [
    {
     "data": {
      "text/html": [
       "<div>\n",
       "<table border=\"1\" class=\"dataframe\">\n",
       "  <thead>\n",
       "    <tr style=\"text-align: right;\">\n",
       "      <th></th>\n",
       "      <th>SHOT_DIST</th>\n",
       "      <th>FGM</th>\n",
       "    </tr>\n",
       "  </thead>\n",
       "  <tbody>\n",
       "    <tr>\n",
       "      <th>SHOT_DIST</th>\n",
       "      <td>1.000000</td>\n",
       "      <td>-0.168766</td>\n",
       "    </tr>\n",
       "    <tr>\n",
       "      <th>FGM</th>\n",
       "      <td>-0.168766</td>\n",
       "      <td>1.000000</td>\n",
       "    </tr>\n",
       "  </tbody>\n",
       "</table>\n",
       "</div>"
      ],
      "text/plain": [
       "           SHOT_DIST       FGM\n",
       "SHOT_DIST   1.000000 -0.168766\n",
       "FGM        -0.168766  1.000000"
      ]
     },
     "execution_count": 77,
     "metadata": {},
     "output_type": "execute_result"
    }
   ],
   "source": [
    "train_2_df[['SHOT_DIST', 'FGM']].corr()"
   ]
  },
  {
   "cell_type": "markdown",
   "metadata": {},
   "source": [
    "CLOSE_DEF_DIST"
   ]
  },
  {
   "cell_type": "code",
   "execution_count": 78,
   "metadata": {
    "collapsed": false
   },
   "outputs": [
    {
     "data": {
      "text/plain": [
       "<matplotlib.axes._subplots.AxesSubplot at 0x126c43390>"
      ]
     },
     "execution_count": 78,
     "metadata": {},
     "output_type": "execute_result"
    },
    {
     "data": {
      "image/png": "[encoded data removed]",
      "text/plain": [
       "<matplotlib.figure.Figure at 0x127e25110>"
      ]
     },
     "metadata": {},
     "output_type": "display_data"
    }
   ],
   "source": [
    "# Majority of the defender's distance is within 10 feets.\n",
    "train_2_df['CLOSE_DEF_DIST'].plot(kind = 'hist')"
   ]
  },
  {
   "cell_type": "markdown",
   "metadata": {},
   "source": [
    "FG% with defender distance within 10 feets. It looks like FG% improves with increase in defender distance."
   ]
  },
  {
   "cell_type": "code",
   "execution_count": 79,
   "metadata": {
    "collapsed": false
   },
   "outputs": [
    {
     "data": {
      "text/plain": [
       "<matplotlib.axes._subplots.AxesSubplot at 0x126a65210>"
      ]
     },
     "execution_count": 79,
     "metadata": {},
     "output_type": "execute_result"
    },
    {
     "data": {
      "image/png": "[encoded data removed]",
      "text/plain": [
       "<matplotlib.figure.Figure at 0x126b35c50>"
      ]
     },
     "metadata": {},
     "output_type": "display_data"
    }
   ],
   "source": [
    "train_2_df[train_2_df.CLOSE_DEF_DIST <=10].groupby('CLOSE_DEF_DIST')['FGM'].mean().plot()"
   ]
  },
  {
   "cell_type": "markdown",
   "metadata": {},
   "source": [
    "Not too many shots are taken with defender far away - these shots are likely to be wide open shots or shots off turnover. On average, these shots have better chance to get in."
   ]
  },
  {
   "cell_type": "code",
   "execution_count": 80,
   "metadata": {
    "collapsed": false,
    "scrolled": true
   },
   "outputs": [
    {
     "data": {
      "text/plain": [
       "845"
      ]
     },
     "execution_count": 80,
     "metadata": {},
     "output_type": "execute_result"
    }
   ],
   "source": [
    "train_2_df[(train_2_df.CLOSE_DEF_DIST >10)].shape[0]"
   ]
  },
  {
   "cell_type": "code",
   "execution_count": 81,
   "metadata": {
    "collapsed": false
   },
   "outputs": [
    {
     "data": {
      "text/plain": [
       "<matplotlib.axes._subplots.AxesSubplot at 0x120edf290>"
      ]
     },
     "execution_count": 81,
     "metadata": {},
     "output_type": "execute_result"
    },
    {
     "data": {
      "image/png": "[encoded data removed]",
      "text/plain": [
       "<matplotlib.figure.Figure at 0x11ba33250>"
      ]
     },
     "metadata": {},
     "output_type": "display_data"
    }
   ],
   "source": [
    "train_2_df[(train_2_df.CLOSE_DEF_DIST >10)&(train_2_df.CLOSE_DEF_DIST <20)].groupby('CLOSE_DEF_DIST')['FGM'].mean().plot()"
   ]
  },
  {
   "cell_type": "code",
   "execution_count": 82,
   "metadata": {
    "collapsed": false
   },
   "outputs": [
    {
     "data": {
      "text/html": [
       "<div>\n",
       "<table border=\"1\" class=\"dataframe\">\n",
       "  <thead>\n",
       "    <tr style=\"text-align: right;\">\n",
       "      <th></th>\n",
       "      <th>CLOSE_DEF_DIST</th>\n",
       "      <th>FGM</th>\n",
       "    </tr>\n",
       "  </thead>\n",
       "  <tbody>\n",
       "    <tr>\n",
       "      <th>CLOSE_DEF_DIST</th>\n",
       "      <td>1.000000</td>\n",
       "      <td>0.051432</td>\n",
       "    </tr>\n",
       "    <tr>\n",
       "      <th>FGM</th>\n",
       "      <td>0.051432</td>\n",
       "      <td>1.000000</td>\n",
       "    </tr>\n",
       "  </tbody>\n",
       "</table>\n",
       "</div>"
      ],
      "text/plain": [
       "                CLOSE_DEF_DIST       FGM\n",
       "CLOSE_DEF_DIST        1.000000  0.051432\n",
       "FGM                   0.051432  1.000000"
      ]
     },
     "execution_count": 82,
     "metadata": {},
     "output_type": "execute_result"
    }
   ],
   "source": [
    "train_2_df[['CLOSE_DEF_DIST', 'FGM']].corr()"
   ]
  },
  {
   "cell_type": "markdown",
   "metadata": {},
   "source": [
    "## Correlation Between Shot Distance and Closest Defender Distance"
   ]
  },
  {
   "cell_type": "markdown",
   "metadata": {},
   "source": [
    "There seem to be correlation between shot distance and closest defender distance. It actually makes sense since defender is hard to close out shots that are further away. "
   ]
  },
  {
   "cell_type": "code",
   "execution_count": 83,
   "metadata": {
    "collapsed": false
   },
   "outputs": [
    {
     "data": {
      "text/html": [
       "<div>\n",
       "<table border=\"1\" class=\"dataframe\">\n",
       "  <thead>\n",
       "    <tr style=\"text-align: right;\">\n",
       "      <th></th>\n",
       "      <th>SHOT_DIST</th>\n",
       "      <th>CLOSE_DEF_DIST</th>\n",
       "    </tr>\n",
       "  </thead>\n",
       "  <tbody>\n",
       "    <tr>\n",
       "      <th>SHOT_DIST</th>\n",
       "      <td>1.000000</td>\n",
       "      <td>0.461443</td>\n",
       "    </tr>\n",
       "    <tr>\n",
       "      <th>CLOSE_DEF_DIST</th>\n",
       "      <td>0.461443</td>\n",
       "      <td>1.000000</td>\n",
       "    </tr>\n",
       "  </tbody>\n",
       "</table>\n",
       "</div>"
      ],
      "text/plain": [
       "                SHOT_DIST  CLOSE_DEF_DIST\n",
       "SHOT_DIST        1.000000        0.461443\n",
       "CLOSE_DEF_DIST   0.461443        1.000000"
      ]
     },
     "execution_count": 83,
     "metadata": {},
     "output_type": "execute_result"
    }
   ],
   "source": [
    "train_2_df[['SHOT_DIST','CLOSE_DEF_DIST']].corr()"
   ]
  },
  {
   "cell_type": "code",
   "execution_count": 84,
   "metadata": {
    "collapsed": false
   },
   "outputs": [
    {
     "data": {
      "text/plain": [
       "<matplotlib.axes._subplots.AxesSubplot at 0x126ca7750>"
      ]
     },
     "execution_count": 84,
     "metadata": {},
     "output_type": "execute_result"
    },
    {
     "data": {
      "image/png": "[encoded data removed]",
      "text/plain": [
       "<matplotlib.figure.Figure at 0x126c62f10>"
      ]
     },
     "metadata": {},
     "output_type": "display_data"
    }
   ],
   "source": [
    "train_2_df.plot('SHOT_DIST','CLOSE_DEF_DIST',kind='scatter')"
   ]
  },
  {
   "cell_type": "markdown",
   "metadata": {
    "collapsed": true
   },
   "source": [
    "### Transformed Training Set Overview"
   ]
  },
  {
   "cell_type": "code",
   "execution_count": 85,
   "metadata": {
    "collapsed": false
   },
   "outputs": [
    {
     "data": {
      "text/html": [
       "<div>\n",
       "<table border=\"1\" class=\"dataframe\">\n",
       "  <thead>\n",
       "    <tr style=\"text-align: right;\">\n",
       "      <th></th>\n",
       "      <th>SHOT_NUMBER</th>\n",
       "      <th>GAME_CLOCK_t</th>\n",
       "      <th>Catch&amp;Shot</th>\n",
       "      <th>SHOT_CLOCK</th>\n",
       "      <th>SHOT_DIST</th>\n",
       "      <th>CLOSE_DEF_DIST</th>\n",
       "      <th>FGM</th>\n",
       "    </tr>\n",
       "  </thead>\n",
       "  <tbody>\n",
       "    <tr>\n",
       "      <th>count</th>\n",
       "      <td>54511.000000</td>\n",
       "      <td>54511.000000</td>\n",
       "      <td>54511.000000</td>\n",
       "      <td>54511.000000</td>\n",
       "      <td>54511.000000</td>\n",
       "      <td>54511.000000</td>\n",
       "      <td>54511.000000</td>\n",
       "    </tr>\n",
       "    <tr>\n",
       "      <th>mean</th>\n",
       "      <td>6.487443</td>\n",
       "      <td>1402.399516</td>\n",
       "      <td>0.398250</td>\n",
       "      <td>12.558131</td>\n",
       "      <td>9.637240</td>\n",
       "      <td>3.450751</td>\n",
       "      <td>0.488819</td>\n",
       "    </tr>\n",
       "    <tr>\n",
       "      <th>std</th>\n",
       "      <td>4.719303</td>\n",
       "      <td>836.618140</td>\n",
       "      <td>0.489542</td>\n",
       "      <td>5.840915</td>\n",
       "      <td>6.833019</td>\n",
       "      <td>2.341734</td>\n",
       "      <td>0.499880</td>\n",
       "    </tr>\n",
       "    <tr>\n",
       "      <th>min</th>\n",
       "      <td>1.000000</td>\n",
       "      <td>1.000000</td>\n",
       "      <td>0.000000</td>\n",
       "      <td>0.000000</td>\n",
       "      <td>0.000000</td>\n",
       "      <td>0.000000</td>\n",
       "      <td>0.000000</td>\n",
       "    </tr>\n",
       "    <tr>\n",
       "      <th>25%</th>\n",
       "      <td>3.000000</td>\n",
       "      <td>654.000000</td>\n",
       "      <td>0.000000</td>\n",
       "      <td>8.200000</td>\n",
       "      <td>3.700000</td>\n",
       "      <td>2.000000</td>\n",
       "      <td>0.000000</td>\n",
       "    </tr>\n",
       "    <tr>\n",
       "      <th>50%</th>\n",
       "      <td>5.000000</td>\n",
       "      <td>1369.000000</td>\n",
       "      <td>0.000000</td>\n",
       "      <td>12.300000</td>\n",
       "      <td>7.400000</td>\n",
       "      <td>3.000000</td>\n",
       "      <td>0.000000</td>\n",
       "    </tr>\n",
       "    <tr>\n",
       "      <th>75%</th>\n",
       "      <td>9.000000</td>\n",
       "      <td>2092.000000</td>\n",
       "      <td>1.000000</td>\n",
       "      <td>16.700000</td>\n",
       "      <td>16.300000</td>\n",
       "      <td>4.500000</td>\n",
       "      <td>1.000000</td>\n",
       "    </tr>\n",
       "    <tr>\n",
       "      <th>max</th>\n",
       "      <td>37.000000</td>\n",
       "      <td>3764.000000</td>\n",
       "      <td>1.000000</td>\n",
       "      <td>24.000000</td>\n",
       "      <td>43.300000</td>\n",
       "      <td>52.900000</td>\n",
       "      <td>1.000000</td>\n",
       "    </tr>\n",
       "  </tbody>\n",
       "</table>\n",
       "</div>"
      ],
      "text/plain": [
       "        SHOT_NUMBER  GAME_CLOCK_t    Catch&Shot    SHOT_CLOCK     SHOT_DIST  \\\n",
       "count  54511.000000  54511.000000  54511.000000  54511.000000  54511.000000   \n",
       "mean       6.487443   1402.399516      0.398250     12.558131      9.637240   \n",
       "std        4.719303    836.618140      0.489542      5.840915      6.833019   \n",
       "min        1.000000      1.000000      0.000000      0.000000      0.000000   \n",
       "25%        3.000000    654.000000      0.000000      8.200000      3.700000   \n",
       "50%        5.000000   1369.000000      0.000000     12.300000      7.400000   \n",
       "75%        9.000000   2092.000000      1.000000     16.700000     16.300000   \n",
       "max       37.000000   3764.000000      1.000000     24.000000     43.300000   \n",
       "\n",
       "       CLOSE_DEF_DIST           FGM  \n",
       "count    54511.000000  54511.000000  \n",
       "mean         3.450751      0.488819  \n",
       "std          2.341734      0.499880  \n",
       "min          0.000000      0.000000  \n",
       "25%          2.000000      0.000000  \n",
       "50%          3.000000      0.000000  \n",
       "75%          4.500000      1.000000  \n",
       "max         52.900000      1.000000  "
      ]
     },
     "execution_count": 85,
     "metadata": {},
     "output_type": "execute_result"
    }
   ],
   "source": [
    "# Describe table for significant features\n",
    "train_2_df[['SHOT_NUMBER','GAME_CLOCK_t','Catch&Shot','SHOT_CLOCK','SHOT_DIST','CLOSE_DEF_DIST','FGM']].describe()"
   ]
  },
  {
   "cell_type": "code",
   "execution_count": 86,
   "metadata": {
    "collapsed": false
   },
   "outputs": [
    {
     "data": {
      "text/html": [
       "<div>\n",
       "<table border=\"1\" class=\"dataframe\">\n",
       "  <thead>\n",
       "    <tr style=\"text-align: right;\">\n",
       "      <th></th>\n",
       "      <th>SHOT_NUMBER</th>\n",
       "      <th>GAME_CLOCK_t</th>\n",
       "      <th>Catch&amp;Shot</th>\n",
       "      <th>SHOT_CLOCK</th>\n",
       "      <th>SHOT_DIST</th>\n",
       "      <th>CLOSE_DEF_DIST</th>\n",
       "      <th>FGM</th>\n",
       "    </tr>\n",
       "  </thead>\n",
       "  <tbody>\n",
       "    <tr>\n",
       "      <th>SHOT_NUMBER</th>\n",
       "      <td>1.000000</td>\n",
       "      <td>0.583843</td>\n",
       "      <td>-0.081208</td>\n",
       "      <td>-0.039460</td>\n",
       "      <td>0.007986</td>\n",
       "      <td>-0.019974</td>\n",
       "      <td>-0.004529</td>\n",
       "    </tr>\n",
       "    <tr>\n",
       "      <th>GAME_CLOCK_t</th>\n",
       "      <td>0.583843</td>\n",
       "      <td>1.000000</td>\n",
       "      <td>-0.022117</td>\n",
       "      <td>-0.043919</td>\n",
       "      <td>-0.000534</td>\n",
       "      <td>-0.016598</td>\n",
       "      <td>-0.008079</td>\n",
       "    </tr>\n",
       "    <tr>\n",
       "      <th>Catch&amp;Shot</th>\n",
       "      <td>-0.081208</td>\n",
       "      <td>-0.022117</td>\n",
       "      <td>1.000000</td>\n",
       "      <td>0.170867</td>\n",
       "      <td>-0.031228</td>\n",
       "      <td>0.154217</td>\n",
       "      <td>0.094551</td>\n",
       "    </tr>\n",
       "    <tr>\n",
       "      <th>SHOT_CLOCK</th>\n",
       "      <td>-0.039460</td>\n",
       "      <td>-0.043919</td>\n",
       "      <td>0.170867</td>\n",
       "      <td>1.000000</td>\n",
       "      <td>-0.247157</td>\n",
       "      <td>0.014916</td>\n",
       "      <td>0.116830</td>\n",
       "    </tr>\n",
       "    <tr>\n",
       "      <th>SHOT_DIST</th>\n",
       "      <td>0.007986</td>\n",
       "      <td>-0.000534</td>\n",
       "      <td>-0.031228</td>\n",
       "      <td>-0.247157</td>\n",
       "      <td>1.000000</td>\n",
       "      <td>0.461443</td>\n",
       "      <td>-0.168766</td>\n",
       "    </tr>\n",
       "    <tr>\n",
       "      <th>CLOSE_DEF_DIST</th>\n",
       "      <td>-0.019974</td>\n",
       "      <td>-0.016598</td>\n",
       "      <td>0.154217</td>\n",
       "      <td>0.014916</td>\n",
       "      <td>0.461443</td>\n",
       "      <td>1.000000</td>\n",
       "      <td>0.051432</td>\n",
       "    </tr>\n",
       "    <tr>\n",
       "      <th>FGM</th>\n",
       "      <td>-0.004529</td>\n",
       "      <td>-0.008079</td>\n",
       "      <td>0.094551</td>\n",
       "      <td>0.116830</td>\n",
       "      <td>-0.168766</td>\n",
       "      <td>0.051432</td>\n",
       "      <td>1.000000</td>\n",
       "    </tr>\n",
       "  </tbody>\n",
       "</table>\n",
       "</div>"
      ],
      "text/plain": [
       "                SHOT_NUMBER  GAME_CLOCK_t  Catch&Shot  SHOT_CLOCK  SHOT_DIST  \\\n",
       "SHOT_NUMBER        1.000000      0.583843   -0.081208   -0.039460   0.007986   \n",
       "GAME_CLOCK_t       0.583843      1.000000   -0.022117   -0.043919  -0.000534   \n",
       "Catch&Shot        -0.081208     -0.022117    1.000000    0.170867  -0.031228   \n",
       "SHOT_CLOCK        -0.039460     -0.043919    0.170867    1.000000  -0.247157   \n",
       "SHOT_DIST          0.007986     -0.000534   -0.031228   -0.247157   1.000000   \n",
       "CLOSE_DEF_DIST    -0.019974     -0.016598    0.154217    0.014916   0.461443   \n",
       "FGM               -0.004529     -0.008079    0.094551    0.116830  -0.168766   \n",
       "\n",
       "                CLOSE_DEF_DIST       FGM  \n",
       "SHOT_NUMBER          -0.019974 -0.004529  \n",
       "GAME_CLOCK_t         -0.016598 -0.008079  \n",
       "Catch&Shot            0.154217  0.094551  \n",
       "SHOT_CLOCK            0.014916  0.116830  \n",
       "SHOT_DIST             0.461443 -0.168766  \n",
       "CLOSE_DEF_DIST        1.000000  0.051432  \n",
       "FGM                   0.051432  1.000000  "
      ]
     },
     "execution_count": 86,
     "metadata": {},
     "output_type": "execute_result"
    }
   ],
   "source": [
    "# Correlation table for significant features\n",
    "train_2_df[['SHOT_NUMBER','GAME_CLOCK_t','Catch&Shot','SHOT_CLOCK','SHOT_DIST','CLOSE_DEF_DIST','FGM']].corr()"
   ]
  },
  {
   "cell_type": "markdown",
   "metadata": {},
   "source": [
    "#### Catogorizing SHOT DISTANCE and CLOSE_DEF_DIST for visualization"
   ]
  },
  {
   "cell_type": "code",
   "execution_count": 87,
   "metadata": {
    "collapsed": true
   },
   "outputs": [],
   "source": [
    "# SHOT DISTANCE transformation of visualizations\n",
    "def sd_transform(sd):\n",
    "    n=2\n",
    "    if sd>20:\n",
    "        sd_t = '20+'\n",
    "    elif sd<=2:\n",
    "        sd_t = 2\n",
    "    elif sd<=4:\n",
    "        sd_t = 4\n",
    "    elif sd<=6:\n",
    "        sd_t = 6\n",
    "    elif sd<=8:\n",
    "        sd_t = 8\n",
    "    elif sd<=10:\n",
    "        sd_t = 10\n",
    "    elif sd<=12:\n",
    "        sd_t = 12\n",
    "    elif sd<=14:\n",
    "        sd_t = 14\n",
    "    elif sd<=16:\n",
    "        sd_t = 16\n",
    "    elif sd<=18:\n",
    "        sd_t = 18\n",
    "    else:\n",
    "        sd_t = 20\n",
    "    return sd_t"
   ]
  },
  {
   "cell_type": "code",
   "execution_count": 88,
   "metadata": {
    "collapsed": true
   },
   "outputs": [],
   "source": [
    "def cd_transform(sd):\n",
    "    n=2\n",
    "    if sd>10:\n",
    "        sd_t = '10+'\n",
    "    elif sd<=1:\n",
    "        sd_t = 1\n",
    "    elif sd<=2:\n",
    "        sd_t = 2\n",
    "    elif sd<=3:\n",
    "        sd_t = 3\n",
    "    elif sd<=4:\n",
    "        sd_t = 4\n",
    "    elif sd<=5:\n",
    "        sd_t = 5\n",
    "    elif sd<=6:\n",
    "        sd_t = 6\n",
    "    elif sd<=7:\n",
    "        sd_t = 7\n",
    "    elif sd<=8:\n",
    "        sd_t = 8\n",
    "    elif sd<=9:\n",
    "        sd_t = 9\n",
    "    else:\n",
    "        sd_t = 10\n",
    "    return sd_t"
   ]
  },
  {
   "cell_type": "code",
   "execution_count": 89,
   "metadata": {
    "collapsed": true
   },
   "outputs": [],
   "source": [
    "train_2_df['SHOT_DISTANCE'] = train_2_df.SHOT_DIST.apply(sd_transform)"
   ]
  },
  {
   "cell_type": "code",
   "execution_count": 90,
   "metadata": {
    "collapsed": true
   },
   "outputs": [],
   "source": [
    "train_2_df['CLOSEST_DEFENDER_DISTANE'] = train_2_df.CLOSE_DEF_DIST.apply(cd_transform)"
   ]
  },
  {
   "cell_type": "markdown",
   "metadata": {},
   "source": [
    "### Output for Modeling"
   ]
  },
  {
   "cell_type": "code",
   "execution_count": 91,
   "metadata": {
    "collapsed": true
   },
   "outputs": [],
   "source": [
    "train_2_df.to_csv(os.path.join('..', 'datasets', 'train_2pts.csv'))\n",
    "test_2_df.to_csv(os.path.join('..', 'datasets', 'test_2pts.csv'))"
   ]
  }
 ],
 "metadata": {
  "anaconda-cloud": {},
  "kernelspec": {
   "display_name": "Python [Root]",
   "language": "python",
   "name": "Python [Root]"
  },
  "language_info": {
   "codemirror_mode": {
    "name": "ipython",
    "version": 2
   },
   "file_extension": ".py",
   "mimetype": "text/x-python",
   "name": "python",
   "nbconvert_exporter": "python",
   "pygments_lexer": "ipython2",
   "version": "2.7.12"
  }
 },
 "nbformat": 4,
 "nbformat_minor": 0
}
